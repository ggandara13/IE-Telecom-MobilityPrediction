{
  "nbformat": 4,
  "nbformat_minor": 0,
  "metadata": {
    "colab": {
      "name": "ue_mobility_Improvement_A.ipynb",
      "provenance": [],
      "collapsed_sections": []
    },
    "kernelspec": {
      "display_name": "Python 3",
      "language": "python",
      "name": "python3"
    },
    "language_info": {
      "codemirror_mode": {
        "name": "ipython",
        "version": 3
      },
      "file_extension": ".py",
      "mimetype": "text/x-python",
      "name": "python",
      "nbconvert_exporter": "python",
      "pygments_lexer": "ipython3",
      "version": "3.7.10"
    }
  },
  "cells": [
    {
      "cell_type": "markdown",
      "metadata": {
        "id": "RqC4DOGPO5hA"
      },
      "source": [
        "<img src=\"https://qs.topuniversities.com/hs-fs/hubfs/07_HumanScience_H_300.jpg?width=4961&height=3508&name=07_HumanScience_H_300.jpg\\\" width=\"180\" height=\"120\"  />\n",
        "\n"
      ]
    },
    {
      "cell_type": "markdown",
      "metadata": {
        "id": "jL_CwZwcPB8R"
      },
      "source": [
        "#### F. Gerardo Gandara Espinosa\n",
        "June 12, 2021"
      ]
    },
    {
      "cell_type": "markdown",
      "metadata": {
        "id": "9Ujs6xMwPEVn"
      },
      "source": [
        "### This book is just an improvement in the machine learning model. \n",
        "\n",
        "> Please reference to the github repository for the full credit\n",
        "\n",
        "\n",
        "> https://github.com/miguel-angel-monjas/uetrajectories/blob/master/sources/ue_mobility.ipynb\n",
        "\n",
        "\n",
        "\n",
        "\n"
      ]
    },
    {
      "cell_type": "markdown",
      "metadata": {
        "id": "tLfKkDp0AIy5"
      },
      "source": [
        "# UE mobility prediction\n",
        "\n",
        "The UE connects via a DN to the closest application server. Next, it moves to the next edge site. To keep latency low after a gNB handover, the UE’s context should be relocated not only on the gNB, but also on the UPF and the application server.\n",
        "\n",
        "If the network knows in advance that the UE will move to the target edge site, then some parts of the relocation procedure can be done before the actual gNB handover. In this way, the overall procedure is shortened, and the handover can be performed more smoothly.\n",
        "\n",
        "\n",
        "<div>\n",
        "<img src=\"https://i.postimg.cc/tJHj5fVN/image.png\" width=\"400\">\n",
        "</div>"
      ]
    },
    {
      "cell_type": "code",
      "metadata": {
        "colab": {
          "base_uri": "https://localhost:8080/"
        },
        "id": "jbCzl7TPAUVJ",
        "outputId": "4e9bfaad-2826-4dfc-dc45-1b49043d0966"
      },
      "source": [
        "from google.colab import drive\n",
        "drive.mount('/content/gdrive')"
      ],
      "execution_count": 42,
      "outputs": [
        {
          "output_type": "stream",
          "text": [
            "Drive already mounted at /content/gdrive; to attempt to forcibly remount, call drive.mount(\"/content/gdrive\", force_remount=True).\n"
          ],
          "name": "stdout"
        }
      ]
    },
    {
      "cell_type": "code",
      "metadata": {
        "id": "XGtoycDOAIy9"
      },
      "source": [
        "import warnings\n",
        "warnings.simplefilter(action='ignore', category=FutureWarning)\n",
        "\n",
        "import matplotlib.pyplot as plt\n",
        "import pandas as pd\n",
        "\n",
        "plt.rcParams[\"figure.figsize\"] = (10, 5)"
      ],
      "execution_count": 43,
      "outputs": []
    },
    {
      "cell_type": "markdown",
      "metadata": {
        "id": "mNrGpzKUAIy-"
      },
      "source": [
        "## Data analysis\n",
        "\n",
        "The dataset in `trajectories.json.gz` is made of events carrying the following features:\n",
        "* `currentEnb`: gNB the user has moved to \n",
        "* `eventId`: type of event\n",
        "* `imsi`: IMSI (user identifier) the event belongs to. \n",
        "* `timestamp`: minutes starting from 0 at day 1 in the dataset. The dataset contains data from about four days and a half \n",
        "* `timeSlot`: a 15-minute slot generated from timestamp. There should be 96 timeslots in a day. `timeSlot` is restarted every day. "
      ]
    },
    {
      "cell_type": "markdown",
      "metadata": {
        "id": "mDGnZbrUAIy_"
      },
      "source": [
        "## Exploratory Data Analysis"
      ]
    },
    {
      "cell_type": "code",
      "metadata": {
        "colab": {
          "base_uri": "https://localhost:8080/",
          "height": 206
        },
        "id": "uEsD39J4AIzA",
        "outputId": "9b61ca7c-5096-4468-8b58-a707cb0616fc"
      },
      "source": [
        "df = pd.read_json('gdrive/MyDrive/Colab Notebooks/Telecom/MobilityPredictor/sources/trajectories.json.gz', compression='gzip')\n",
        "df.head()"
      ],
      "execution_count": 44,
      "outputs": [
        {
          "output_type": "execute_result",
          "data": {
            "text/html": [
              "<div>\n",
              "<style scoped>\n",
              "    .dataframe tbody tr th:only-of-type {\n",
              "        vertical-align: middle;\n",
              "    }\n",
              "\n",
              "    .dataframe tbody tr th {\n",
              "        vertical-align: top;\n",
              "    }\n",
              "\n",
              "    .dataframe thead th {\n",
              "        text-align: right;\n",
              "    }\n",
              "</style>\n",
              "<table border=\"1\" class=\"dataframe\">\n",
              "  <thead>\n",
              "    <tr style=\"text-align: right;\">\n",
              "      <th></th>\n",
              "      <th>currentEnb</th>\n",
              "      <th>eventId</th>\n",
              "      <th>imsi</th>\n",
              "      <th>timeSlot</th>\n",
              "      <th>timestamp</th>\n",
              "    </tr>\n",
              "  </thead>\n",
              "  <tbody>\n",
              "    <tr>\n",
              "      <th>0</th>\n",
              "      <td>22</td>\n",
              "      <td>12</td>\n",
              "      <td>2778514794</td>\n",
              "      <td>0</td>\n",
              "      <td>0</td>\n",
              "    </tr>\n",
              "    <tr>\n",
              "      <th>1</th>\n",
              "      <td>16</td>\n",
              "      <td>12</td>\n",
              "      <td>2793518354</td>\n",
              "      <td>0</td>\n",
              "      <td>0</td>\n",
              "    </tr>\n",
              "    <tr>\n",
              "      <th>2</th>\n",
              "      <td>37</td>\n",
              "      <td>12</td>\n",
              "      <td>2793522274</td>\n",
              "      <td>0</td>\n",
              "      <td>0</td>\n",
              "    </tr>\n",
              "    <tr>\n",
              "      <th>3</th>\n",
              "      <td>15</td>\n",
              "      <td>12</td>\n",
              "      <td>2781330414</td>\n",
              "      <td>0</td>\n",
              "      <td>0</td>\n",
              "    </tr>\n",
              "    <tr>\n",
              "      <th>4</th>\n",
              "      <td>18</td>\n",
              "      <td>12</td>\n",
              "      <td>2793525404</td>\n",
              "      <td>0</td>\n",
              "      <td>0</td>\n",
              "    </tr>\n",
              "  </tbody>\n",
              "</table>\n",
              "</div>"
            ],
            "text/plain": [
              "   currentEnb  eventId        imsi  timeSlot  timestamp\n",
              "0          22       12  2778514794         0          0\n",
              "1          16       12  2793518354         0          0\n",
              "2          37       12  2793522274         0          0\n",
              "3          15       12  2781330414         0          0\n",
              "4          18       12  2793525404         0          0"
            ]
          },
          "metadata": {
            "tags": []
          },
          "execution_count": 44
        }
      ]
    },
    {
      "cell_type": "code",
      "metadata": {
        "colab": {
          "base_uri": "https://localhost:8080/",
          "height": 300
        },
        "id": "OXxoRt_dAIzD",
        "outputId": "1939fda9-0032-422d-8624-cc8bc4d65abc"
      },
      "source": [
        "df.describe()"
      ],
      "execution_count": 45,
      "outputs": [
        {
          "output_type": "execute_result",
          "data": {
            "text/html": [
              "<div>\n",
              "<style scoped>\n",
              "    .dataframe tbody tr th:only-of-type {\n",
              "        vertical-align: middle;\n",
              "    }\n",
              "\n",
              "    .dataframe tbody tr th {\n",
              "        vertical-align: top;\n",
              "    }\n",
              "\n",
              "    .dataframe thead th {\n",
              "        text-align: right;\n",
              "    }\n",
              "</style>\n",
              "<table border=\"1\" class=\"dataframe\">\n",
              "  <thead>\n",
              "    <tr style=\"text-align: right;\">\n",
              "      <th></th>\n",
              "      <th>currentEnb</th>\n",
              "      <th>eventId</th>\n",
              "      <th>imsi</th>\n",
              "      <th>timeSlot</th>\n",
              "      <th>timestamp</th>\n",
              "    </tr>\n",
              "  </thead>\n",
              "  <tbody>\n",
              "    <tr>\n",
              "      <th>count</th>\n",
              "      <td>479154.000000</td>\n",
              "      <td>479154.0</td>\n",
              "      <td>4.791540e+05</td>\n",
              "      <td>479154.000000</td>\n",
              "      <td>479154.000000</td>\n",
              "    </tr>\n",
              "    <tr>\n",
              "      <th>mean</th>\n",
              "      <td>22.057887</td>\n",
              "      <td>12.0</td>\n",
              "      <td>2.788115e+09</td>\n",
              "      <td>24.752558</td>\n",
              "      <td>3127.615489</td>\n",
              "    </tr>\n",
              "    <tr>\n",
              "      <th>std</th>\n",
              "      <td>11.116315</td>\n",
              "      <td>0.0</td>\n",
              "      <td>5.528592e+06</td>\n",
              "      <td>24.060522</td>\n",
              "      <td>2094.975400</td>\n",
              "    </tr>\n",
              "    <tr>\n",
              "      <th>min</th>\n",
              "      <td>0.000000</td>\n",
              "      <td>12.0</td>\n",
              "      <td>2.778515e+09</td>\n",
              "      <td>0.000000</td>\n",
              "      <td>0.000000</td>\n",
              "    </tr>\n",
              "    <tr>\n",
              "      <th>25%</th>\n",
              "      <td>11.000000</td>\n",
              "      <td>12.0</td>\n",
              "      <td>2.783141e+09</td>\n",
              "      <td>1.000000</td>\n",
              "      <td>1450.000000</td>\n",
              "    </tr>\n",
              "    <tr>\n",
              "      <th>50%</th>\n",
              "      <td>24.000000</td>\n",
              "      <td>12.0</td>\n",
              "      <td>2.788265e+09</td>\n",
              "      <td>4.000000</td>\n",
              "      <td>2914.000000</td>\n",
              "    </tr>\n",
              "    <tr>\n",
              "      <th>75%</th>\n",
              "      <td>32.000000</td>\n",
              "      <td>12.0</td>\n",
              "      <td>2.792899e+09</td>\n",
              "      <td>49.000000</td>\n",
              "      <td>5055.000000</td>\n",
              "    </tr>\n",
              "    <tr>\n",
              "      <th>max</th>\n",
              "      <td>40.000000</td>\n",
              "      <td>12.0</td>\n",
              "      <td>2.797493e+09</td>\n",
              "      <td>55.000000</td>\n",
              "      <td>6587.000000</td>\n",
              "    </tr>\n",
              "  </tbody>\n",
              "</table>\n",
              "</div>"
            ],
            "text/plain": [
              "          currentEnb   eventId          imsi       timeSlot      timestamp\n",
              "count  479154.000000  479154.0  4.791540e+05  479154.000000  479154.000000\n",
              "mean       22.057887      12.0  2.788115e+09      24.752558    3127.615489\n",
              "std        11.116315       0.0  5.528592e+06      24.060522    2094.975400\n",
              "min         0.000000      12.0  2.778515e+09       0.000000       0.000000\n",
              "25%        11.000000      12.0  2.783141e+09       1.000000    1450.000000\n",
              "50%        24.000000      12.0  2.788265e+09       4.000000    2914.000000\n",
              "75%        32.000000      12.0  2.792899e+09      49.000000    5055.000000\n",
              "max        40.000000      12.0  2.797493e+09      55.000000    6587.000000"
            ]
          },
          "metadata": {
            "tags": []
          },
          "execution_count": 45
        }
      ]
    },
    {
      "cell_type": "code",
      "metadata": {
        "colab": {
          "base_uri": "https://localhost:8080/"
        },
        "id": "JcE7FAK2AIzF",
        "outputId": "db300fe0-c3c8-4f5e-df3d-cc7c89b6907d"
      },
      "source": [
        "df.nunique()"
      ],
      "execution_count": 46,
      "outputs": [
        {
          "output_type": "execute_result",
          "data": {
            "text/plain": [
              "currentEnb      41\n",
              "eventId          1\n",
              "imsi          8687\n",
              "timeSlot        15\n",
              "timestamp     1036\n",
              "dtype: int64"
            ]
          },
          "metadata": {
            "tags": []
          },
          "execution_count": 46
        }
      ]
    },
    {
      "cell_type": "code",
      "metadata": {
        "colab": {
          "base_uri": "https://localhost:8080/",
          "height": 206
        },
        "id": "zgnFpAK8AIzG",
        "outputId": "e76748f8-ff85-469b-e46c-482e152e614e"
      },
      "source": [
        "df.head(5)"
      ],
      "execution_count": 47,
      "outputs": [
        {
          "output_type": "execute_result",
          "data": {
            "text/html": [
              "<div>\n",
              "<style scoped>\n",
              "    .dataframe tbody tr th:only-of-type {\n",
              "        vertical-align: middle;\n",
              "    }\n",
              "\n",
              "    .dataframe tbody tr th {\n",
              "        vertical-align: top;\n",
              "    }\n",
              "\n",
              "    .dataframe thead th {\n",
              "        text-align: right;\n",
              "    }\n",
              "</style>\n",
              "<table border=\"1\" class=\"dataframe\">\n",
              "  <thead>\n",
              "    <tr style=\"text-align: right;\">\n",
              "      <th></th>\n",
              "      <th>currentEnb</th>\n",
              "      <th>eventId</th>\n",
              "      <th>imsi</th>\n",
              "      <th>timeSlot</th>\n",
              "      <th>timestamp</th>\n",
              "    </tr>\n",
              "  </thead>\n",
              "  <tbody>\n",
              "    <tr>\n",
              "      <th>0</th>\n",
              "      <td>22</td>\n",
              "      <td>12</td>\n",
              "      <td>2778514794</td>\n",
              "      <td>0</td>\n",
              "      <td>0</td>\n",
              "    </tr>\n",
              "    <tr>\n",
              "      <th>1</th>\n",
              "      <td>16</td>\n",
              "      <td>12</td>\n",
              "      <td>2793518354</td>\n",
              "      <td>0</td>\n",
              "      <td>0</td>\n",
              "    </tr>\n",
              "    <tr>\n",
              "      <th>2</th>\n",
              "      <td>37</td>\n",
              "      <td>12</td>\n",
              "      <td>2793522274</td>\n",
              "      <td>0</td>\n",
              "      <td>0</td>\n",
              "    </tr>\n",
              "    <tr>\n",
              "      <th>3</th>\n",
              "      <td>15</td>\n",
              "      <td>12</td>\n",
              "      <td>2781330414</td>\n",
              "      <td>0</td>\n",
              "      <td>0</td>\n",
              "    </tr>\n",
              "    <tr>\n",
              "      <th>4</th>\n",
              "      <td>18</td>\n",
              "      <td>12</td>\n",
              "      <td>2793525404</td>\n",
              "      <td>0</td>\n",
              "      <td>0</td>\n",
              "    </tr>\n",
              "  </tbody>\n",
              "</table>\n",
              "</div>"
            ],
            "text/plain": [
              "   currentEnb  eventId        imsi  timeSlot  timestamp\n",
              "0          22       12  2778514794         0          0\n",
              "1          16       12  2793518354         0          0\n",
              "2          37       12  2793522274         0          0\n",
              "3          15       12  2781330414         0          0\n",
              "4          18       12  2793525404         0          0"
            ]
          },
          "metadata": {
            "tags": []
          },
          "execution_count": 47
        }
      ]
    },
    {
      "cell_type": "code",
      "metadata": {
        "colab": {
          "base_uri": "https://localhost:8080/",
          "height": 423
        },
        "id": "GdmoAdYcAIzH",
        "outputId": "741b34de-7996-4a2d-8830-2e6ad62b2b0b"
      },
      "source": [
        "df[df['imsi'] == 2785554734]"
      ],
      "execution_count": 48,
      "outputs": [
        {
          "output_type": "execute_result",
          "data": {
            "text/html": [
              "<div>\n",
              "<style scoped>\n",
              "    .dataframe tbody tr th:only-of-type {\n",
              "        vertical-align: middle;\n",
              "    }\n",
              "\n",
              "    .dataframe tbody tr th {\n",
              "        vertical-align: top;\n",
              "    }\n",
              "\n",
              "    .dataframe thead th {\n",
              "        text-align: right;\n",
              "    }\n",
              "</style>\n",
              "<table border=\"1\" class=\"dataframe\">\n",
              "  <thead>\n",
              "    <tr style=\"text-align: right;\">\n",
              "      <th></th>\n",
              "      <th>currentEnb</th>\n",
              "      <th>eventId</th>\n",
              "      <th>imsi</th>\n",
              "      <th>timeSlot</th>\n",
              "      <th>timestamp</th>\n",
              "    </tr>\n",
              "  </thead>\n",
              "  <tbody>\n",
              "    <tr>\n",
              "      <th>5677</th>\n",
              "      <td>29</td>\n",
              "      <td>12</td>\n",
              "      <td>2785554734</td>\n",
              "      <td>0</td>\n",
              "      <td>0</td>\n",
              "    </tr>\n",
              "    <tr>\n",
              "      <th>10037</th>\n",
              "      <td>30</td>\n",
              "      <td>12</td>\n",
              "      <td>2785554734</td>\n",
              "      <td>0</td>\n",
              "      <td>2</td>\n",
              "    </tr>\n",
              "    <tr>\n",
              "      <th>30897</th>\n",
              "      <td>3</td>\n",
              "      <td>12</td>\n",
              "      <td>2785554734</td>\n",
              "      <td>1</td>\n",
              "      <td>20</td>\n",
              "    </tr>\n",
              "    <tr>\n",
              "      <th>39450</th>\n",
              "      <td>31</td>\n",
              "      <td>12</td>\n",
              "      <td>2785554734</td>\n",
              "      <td>1</td>\n",
              "      <td>29</td>\n",
              "    </tr>\n",
              "    <tr>\n",
              "      <th>40386</th>\n",
              "      <td>3</td>\n",
              "      <td>12</td>\n",
              "      <td>2785554734</td>\n",
              "      <td>2</td>\n",
              "      <td>30</td>\n",
              "    </tr>\n",
              "    <tr>\n",
              "      <th>...</th>\n",
              "      <td>...</td>\n",
              "      <td>...</td>\n",
              "      <td>...</td>\n",
              "      <td>...</td>\n",
              "      <td>...</td>\n",
              "    </tr>\n",
              "    <tr>\n",
              "      <th>479146</th>\n",
              "      <td>29</td>\n",
              "      <td>12</td>\n",
              "      <td>2785554734</td>\n",
              "      <td>54</td>\n",
              "      <td>6580</td>\n",
              "    </tr>\n",
              "    <tr>\n",
              "      <th>479149</th>\n",
              "      <td>30</td>\n",
              "      <td>12</td>\n",
              "      <td>2785554734</td>\n",
              "      <td>54</td>\n",
              "      <td>6581</td>\n",
              "    </tr>\n",
              "    <tr>\n",
              "      <th>479150</th>\n",
              "      <td>29</td>\n",
              "      <td>12</td>\n",
              "      <td>2785554734</td>\n",
              "      <td>54</td>\n",
              "      <td>6582</td>\n",
              "    </tr>\n",
              "    <tr>\n",
              "      <th>479151</th>\n",
              "      <td>30</td>\n",
              "      <td>12</td>\n",
              "      <td>2785554734</td>\n",
              "      <td>54</td>\n",
              "      <td>6583</td>\n",
              "    </tr>\n",
              "    <tr>\n",
              "      <th>479152</th>\n",
              "      <td>29</td>\n",
              "      <td>12</td>\n",
              "      <td>2785554734</td>\n",
              "      <td>54</td>\n",
              "      <td>6584</td>\n",
              "    </tr>\n",
              "  </tbody>\n",
              "</table>\n",
              "<p>137 rows × 5 columns</p>\n",
              "</div>"
            ],
            "text/plain": [
              "        currentEnb  eventId        imsi  timeSlot  timestamp\n",
              "5677            29       12  2785554734         0          0\n",
              "10037           30       12  2785554734         0          2\n",
              "30897            3       12  2785554734         1         20\n",
              "39450           31       12  2785554734         1         29\n",
              "40386            3       12  2785554734         2         30\n",
              "...            ...      ...         ...       ...        ...\n",
              "479146          29       12  2785554734        54       6580\n",
              "479149          30       12  2785554734        54       6581\n",
              "479150          29       12  2785554734        54       6582\n",
              "479151          30       12  2785554734        54       6583\n",
              "479152          29       12  2785554734        54       6584\n",
              "\n",
              "[137 rows x 5 columns]"
            ]
          },
          "metadata": {
            "tags": []
          },
          "execution_count": 48
        }
      ]
    },
    {
      "cell_type": "code",
      "metadata": {
        "colab": {
          "base_uri": "https://localhost:8080/",
          "height": 340
        },
        "id": "E2xwBJ9OAIzI",
        "outputId": "00971d77-9e10-4fc8-c878-ef0b615a69fd"
      },
      "source": [
        "df['currentEnb'].value_counts().sort_index().plot(kind='bar')"
      ],
      "execution_count": 49,
      "outputs": [
        {
          "output_type": "execute_result",
          "data": {
            "text/plain": [
              "<matplotlib.axes._subplots.AxesSubplot at 0x7f3da0768c50>"
            ]
          },
          "metadata": {
            "tags": []
          },
          "execution_count": 49
        },
        {
          "output_type": "display_data",
          "data": {
            "image/png": "[encoded data removed]",
            "text/plain": [
              "<Figure size 720x360 with 1 Axes>"
            ]
          },
          "metadata": {
            "tags": [],
            "needs_background": "light"
          }
        }
      ]
    },
    {
      "cell_type": "code",
      "metadata": {
        "colab": {
          "base_uri": "https://localhost:8080/",
          "height": 340
        },
        "id": "I7ybNa4lAIzJ",
        "outputId": "488bdaa4-0011-4421-e9de-bdd5fb213789"
      },
      "source": [
        "df['timeSlot'].value_counts().sort_index().plot(kind='bar')"
      ],
      "execution_count": 50,
      "outputs": [
        {
          "output_type": "execute_result",
          "data": {
            "text/plain": [
              "<matplotlib.axes._subplots.AxesSubplot at 0x7f3da06a3090>"
            ]
          },
          "metadata": {
            "tags": []
          },
          "execution_count": 50
        },
        {
          "output_type": "display_data",
          "data": {
            "image/png": "[encoded data removed]",
            "text/plain": [
              "<Figure size 720x360 with 1 Axes>"
            ]
          },
          "metadata": {
            "tags": [],
            "needs_background": "light"
          }
        }
      ]
    },
    {
      "cell_type": "code",
      "metadata": {
        "colab": {
          "base_uri": "https://localhost:8080/"
        },
        "id": "LTMNndJxAIzJ",
        "outputId": "4d6cb6c1-6576-4fa9-a71d-908067e74e3c"
      },
      "source": [
        "df['timestamp'].max()"
      ],
      "execution_count": 51,
      "outputs": [
        {
          "output_type": "execute_result",
          "data": {
            "text/plain": [
              "6587"
            ]
          },
          "metadata": {
            "tags": []
          },
          "execution_count": 51
        }
      ]
    },
    {
      "cell_type": "code",
      "metadata": {
        "colab": {
          "base_uri": "https://localhost:8080/",
          "height": 338
        },
        "id": "EXBhjdG7AIzK",
        "outputId": "c395db3a-7681-4169-d1f6-81e6229df1c1"
      },
      "source": [
        "df['timestamp'].hist(bins=10)"
      ],
      "execution_count": 52,
      "outputs": [
        {
          "output_type": "execute_result",
          "data": {
            "text/plain": [
              "<matplotlib.axes._subplots.AxesSubplot at 0x7f3da06c5c10>"
            ]
          },
          "metadata": {
            "tags": []
          },
          "execution_count": 52
        },
        {
          "output_type": "display_data",
          "data": {
            "image/png": "[encoded data removed]",
            "text/plain": [
              "<Figure size 720x360 with 1 Axes>"
            ]
          },
          "metadata": {
            "tags": [],
            "needs_background": "light"
          }
        }
      ]
    },
    {
      "cell_type": "markdown",
      "metadata": {
        "id": "uLzPUymIAIzK"
      },
      "source": [
        "### Additional data sources"
      ]
    },
    {
      "cell_type": "markdown",
      "metadata": {
        "id": "_aCjxCTQAIzL"
      },
      "source": [
        "For each gNodeB, `topology_neighbours.json` contains its closest neighbours."
      ]
    },
    {
      "cell_type": "code",
      "metadata": {
        "colab": {
          "base_uri": "https://localhost:8080/",
          "height": 206
        },
        "id": "hZEdAn9wAIzL",
        "outputId": "b9483292-8ef4-48a4-f2fb-f4b024484971"
      },
      "source": [
        "gnb_neigh = pd.read_json('gdrive/MyDrive/Colab Notebooks/Telecom/MobilityPredictor/sources/topology_neighbours.json', orient='index')\n",
        "gnb_neigh.reset_index(inplace=True)\n",
        "gnb_neigh.columns = ['gnodeB', 'neigh_1', 'neigh_2', 'neigh_3', 'neigh_4']\n",
        "gnb_neigh.head()"
      ],
      "execution_count": 53,
      "outputs": [
        {
          "output_type": "execute_result",
          "data": {
            "text/html": [
              "<div>\n",
              "<style scoped>\n",
              "    .dataframe tbody tr th:only-of-type {\n",
              "        vertical-align: middle;\n",
              "    }\n",
              "\n",
              "    .dataframe tbody tr th {\n",
              "        vertical-align: top;\n",
              "    }\n",
              "\n",
              "    .dataframe thead th {\n",
              "        text-align: right;\n",
              "    }\n",
              "</style>\n",
              "<table border=\"1\" class=\"dataframe\">\n",
              "  <thead>\n",
              "    <tr style=\"text-align: right;\">\n",
              "      <th></th>\n",
              "      <th>gnodeB</th>\n",
              "      <th>neigh_1</th>\n",
              "      <th>neigh_2</th>\n",
              "      <th>neigh_3</th>\n",
              "      <th>neigh_4</th>\n",
              "    </tr>\n",
              "  </thead>\n",
              "  <tbody>\n",
              "    <tr>\n",
              "      <th>0</th>\n",
              "      <td>0</td>\n",
              "      <td>5</td>\n",
              "      <td>2</td>\n",
              "      <td>16</td>\n",
              "      <td>4</td>\n",
              "    </tr>\n",
              "    <tr>\n",
              "      <th>1</th>\n",
              "      <td>29</td>\n",
              "      <td>1</td>\n",
              "      <td>30</td>\n",
              "      <td>5</td>\n",
              "      <td>3</td>\n",
              "    </tr>\n",
              "    <tr>\n",
              "      <th>2</th>\n",
              "      <td>5</td>\n",
              "      <td>1</td>\n",
              "      <td>0</td>\n",
              "      <td>2</td>\n",
              "      <td>4</td>\n",
              "    </tr>\n",
              "    <tr>\n",
              "      <th>3</th>\n",
              "      <td>1</td>\n",
              "      <td>5</td>\n",
              "      <td>29</td>\n",
              "      <td>4</td>\n",
              "      <td>3</td>\n",
              "    </tr>\n",
              "    <tr>\n",
              "      <th>4</th>\n",
              "      <td>3</td>\n",
              "      <td>31</td>\n",
              "      <td>1</td>\n",
              "      <td>8</td>\n",
              "      <td>30</td>\n",
              "    </tr>\n",
              "  </tbody>\n",
              "</table>\n",
              "</div>"
            ],
            "text/plain": [
              "   gnodeB  neigh_1  neigh_2  neigh_3  neigh_4\n",
              "0       0        5        2       16        4\n",
              "1      29        1       30        5        3\n",
              "2       5        1        0        2        4\n",
              "3       1        5       29        4        3\n",
              "4       3       31        1        8       30"
            ]
          },
          "metadata": {
            "tags": []
          },
          "execution_count": 53
        }
      ]
    },
    {
      "cell_type": "markdown",
      "metadata": {
        "id": "OS6q8_FtAIzL"
      },
      "source": [
        "## Feature engineering\n",
        "\n",
        "First, we select the first day as train set."
      ]
    },
    {
      "cell_type": "code",
      "metadata": {
        "id": "vtIh_O41AIzL"
      },
      "source": [
        "day_1 = df.loc[(df['timestamp']>=0) & (df['timestamp']<1440)]\n",
        "day_2 = df.loc[(df['timestamp']>=1440) & (df['timestamp']<2880)]"
      ],
      "execution_count": 54,
      "outputs": []
    },
    {
      "cell_type": "markdown",
      "metadata": {
        "id": "HMDxPJjMAIzM"
      },
      "source": [
        "For each mobility event, we create a number of new features:\n",
        "* `stay_time`: time until the same user moves to another gNodeB (and thus a new event is received).\n",
        "* `transit_time`: time it took the user to move from the the previous gNodeB. For a same user that goes from gNodeB-a to gNodeB-b, `stay_time` in gNodeB-A is the same as `transit_time` in gNodeB-b\n",
        "* `transition_slot`: bucketed `transit_time` considering that any time greater than 60 minutes is assigned 100 minutes.\n",
        "* `time_of_day`: bucketed `timeSlot` (five periods of time in the day)."
      ]
    },
    {
      "cell_type": "code",
      "metadata": {
        "id": "vVz0PEQrAIzM"
      },
      "source": [
        "grouped_df = day_1.set_index(['imsi', 'timestamp']).sort_index().reset_index()\n",
        "grouped_df['next_timestamp'] = grouped_df.groupby(['imsi'])['timestamp'].shift(-1)\n",
        "grouped_df['prev_timestamp'] = grouped_df.groupby(['imsi'])['timestamp'].shift(1)\n",
        "grouped_df['stay_time'] = grouped_df['next_timestamp'] - grouped_df['timestamp']\n",
        "grouped_df['transit_time'] = grouped_df['timestamp'] - grouped_df['prev_timestamp']"
      ],
      "execution_count": 55,
      "outputs": []
    },
    {
      "cell_type": "code",
      "metadata": {
        "colab": {
          "base_uri": "https://localhost:8080/",
          "height": 338
        },
        "id": "--9oxKhdAIzM",
        "outputId": "f133ae69-4b7c-46a1-dcb2-dd97ba16fbac"
      },
      "source": [
        "grouped_df['stay_time'].hist(bins=128)"
      ],
      "execution_count": 56,
      "outputs": [
        {
          "output_type": "execute_result",
          "data": {
            "text/plain": [
              "<matplotlib.axes._subplots.AxesSubplot at 0x7f3da0574850>"
            ]
          },
          "metadata": {
            "tags": []
          },
          "execution_count": 56
        },
        {
          "output_type": "display_data",
          "data": {
            "image/png": "[encoded data removed]",
            "text/plain": [
              "<Figure size 720x360 with 1 Axes>"
            ]
          },
          "metadata": {
            "tags": [],
            "needs_background": "light"
          }
        }
      ]
    },
    {
      "cell_type": "markdown",
      "metadata": {
        "id": "td_BUj_7AIzN"
      },
      "source": [
        "See the peak around 700 minutes, that could correspond to people remaining at work for such period of time."
      ]
    },
    {
      "cell_type": "code",
      "metadata": {
        "colab": {
          "base_uri": "https://localhost:8080/"
        },
        "id": "xXN_Q4PCAIzO",
        "outputId": "4d7278f2-fe03-442f-d531-99bef9cf3066"
      },
      "source": [
        "grouped_df['transit_time'].max()"
      ],
      "execution_count": 57,
      "outputs": [
        {
          "output_type": "execute_result",
          "data": {
            "text/plain": [
              "737.0"
            ]
          },
          "metadata": {
            "tags": []
          },
          "execution_count": 57
        }
      ]
    },
    {
      "cell_type": "code",
      "metadata": {
        "colab": {
          "base_uri": "https://localhost:8080/"
        },
        "id": "i7iuQWnfAIzO",
        "outputId": "4613e67b-b113-4693-c2b3-d4b763601a19"
      },
      "source": [
        "max_transit_time = grouped_df['transit_time'].max()\n",
        "grouped_df['transition_slot'] = pd.cut(grouped_df['transit_time'], \n",
        "                                       [0, 1, 5, 15, 30, 60, max_transit_time],\n",
        "                                       labels=[1, 5, 15, 30, 60, 100])\n",
        "grouped_df['transition_slot'].value_counts().sort_index()"
      ],
      "execution_count": 58,
      "outputs": [
        {
          "output_type": "execute_result",
          "data": {
            "text/plain": [
              "1      25608\n",
              "5      17234\n",
              "15     43919\n",
              "30      4085\n",
              "60         0\n",
              "100     8634\n",
              "Name: transition_slot, dtype: int64"
            ]
          },
          "metadata": {
            "tags": []
          },
          "execution_count": 58
        }
      ]
    },
    {
      "cell_type": "code",
      "metadata": {
        "colab": {
          "base_uri": "https://localhost:8080/",
          "height": 347
        },
        "id": "OJ7soePPAIzO",
        "outputId": "1fd097d5-9525-496c-e084-db3f508a7d4b"
      },
      "source": [
        "grouped_df['transition_slot'].value_counts().sort_index().plot(kind='bar')"
      ],
      "execution_count": 59,
      "outputs": [
        {
          "output_type": "execute_result",
          "data": {
            "text/plain": [
              "<matplotlib.axes._subplots.AxesSubplot at 0x7f3da03d7b10>"
            ]
          },
          "metadata": {
            "tags": []
          },
          "execution_count": 59
        },
        {
          "output_type": "display_data",
          "data": {
            "image/png": "[encoded data removed]",
            "text/plain": [
              "<Figure size 720x360 with 1 Axes>"
            ]
          },
          "metadata": {
            "tags": [],
            "needs_background": "light"
          }
        }
      ]
    },
    {
      "cell_type": "markdown",
      "metadata": {
        "id": "TK63f-EmAIzP"
      },
      "source": [
        "Five equal bins are defined."
      ]
    },
    {
      "cell_type": "code",
      "metadata": {
        "id": "O2wEWvtTAIzP"
      },
      "source": [
        "grouped_df['time_of_day'] = pd.cut(grouped_df['timeSlot'],\n",
        "                                   bins=5,\n",
        "                                   labels=['early_morn', 'morning', 'noon', 'evening', 'night'])"
      ],
      "execution_count": 60,
      "outputs": []
    },
    {
      "cell_type": "code",
      "metadata": {
        "id": "3Rxtv9GbAIzP"
      },
      "source": [
        "#grouped_df['time_of_day'].value_counts().reindex(index=['early_morn', 'morning', 'noon', 'evening', 'night'])"
      ],
      "execution_count": 61,
      "outputs": []
    },
    {
      "cell_type": "code",
      "metadata": {
        "id": "IuMDH70BAIzQ"
      },
      "source": [
        "#grouped_df['time_of_day'].value_counts().reindex(index=['early_morn', 'morning', 'noon', 'evening', 'night']).plot(kind='bar')"
      ],
      "execution_count": 62,
      "outputs": []
    },
    {
      "cell_type": "markdown",
      "metadata": {
        "id": "ndOT4BKgAIzQ"
      },
      "source": [
        "`ue_home_df` records how long a given user is at a given gNodeB (from `stay_time`)"
      ]
    },
    {
      "cell_type": "code",
      "metadata": {
        "colab": {
          "base_uri": "https://localhost:8080/",
          "height": 206
        },
        "id": "wdUBW1B8AIzQ",
        "outputId": "5301f7f7-f8e9-4189-ed8e-48dd102a9535"
      },
      "source": [
        "ue_home_df = grouped_df.groupby(['imsi', 'currentEnb'])['stay_time'].sum().reset_index()\n",
        "ue_home_df.head()"
      ],
      "execution_count": 63,
      "outputs": [
        {
          "output_type": "execute_result",
          "data": {
            "text/html": [
              "<div>\n",
              "<style scoped>\n",
              "    .dataframe tbody tr th:only-of-type {\n",
              "        vertical-align: middle;\n",
              "    }\n",
              "\n",
              "    .dataframe tbody tr th {\n",
              "        vertical-align: top;\n",
              "    }\n",
              "\n",
              "    .dataframe thead th {\n",
              "        text-align: right;\n",
              "    }\n",
              "</style>\n",
              "<table border=\"1\" class=\"dataframe\">\n",
              "  <thead>\n",
              "    <tr style=\"text-align: right;\">\n",
              "      <th></th>\n",
              "      <th>imsi</th>\n",
              "      <th>currentEnb</th>\n",
              "      <th>stay_time</th>\n",
              "    </tr>\n",
              "  </thead>\n",
              "  <tbody>\n",
              "    <tr>\n",
              "      <th>0</th>\n",
              "      <td>2778514794</td>\n",
              "      <td>6</td>\n",
              "      <td>8.0</td>\n",
              "    </tr>\n",
              "    <tr>\n",
              "      <th>1</th>\n",
              "      <td>2778514794</td>\n",
              "      <td>9</td>\n",
              "      <td>2.0</td>\n",
              "    </tr>\n",
              "    <tr>\n",
              "      <th>2</th>\n",
              "      <td>2778514794</td>\n",
              "      <td>13</td>\n",
              "      <td>2.0</td>\n",
              "    </tr>\n",
              "    <tr>\n",
              "      <th>3</th>\n",
              "      <td>2778514794</td>\n",
              "      <td>18</td>\n",
              "      <td>8.0</td>\n",
              "    </tr>\n",
              "    <tr>\n",
              "      <th>4</th>\n",
              "      <td>2778514794</td>\n",
              "      <td>21</td>\n",
              "      <td>11.0</td>\n",
              "    </tr>\n",
              "  </tbody>\n",
              "</table>\n",
              "</div>"
            ],
            "text/plain": [
              "         imsi  currentEnb  stay_time\n",
              "0  2778514794           6        8.0\n",
              "1  2778514794           9        2.0\n",
              "2  2778514794          13        2.0\n",
              "3  2778514794          18        8.0\n",
              "4  2778514794          21       11.0"
            ]
          },
          "metadata": {
            "tags": []
          },
          "execution_count": 63
        }
      ]
    },
    {
      "cell_type": "markdown",
      "metadata": {
        "id": "uJJxiEBoAIzQ"
      },
      "source": [
        "`home_df` records the gNodeB where each user stays for longer"
      ]
    },
    {
      "cell_type": "code",
      "metadata": {
        "colab": {
          "base_uri": "https://localhost:8080/",
          "height": 206
        },
        "id": "-HGz9j-bAIzR",
        "outputId": "7c94aa4e-bb37-44d0-9384-deea46bc230e"
      },
      "source": [
        "home_gnb = ue_home_df.loc[ue_home_df.groupby(['imsi'])['stay_time'].idxmax()][['imsi', 'currentEnb']]\n",
        "home_gnb.columns = ['imsi', 'home_gnb']\n",
        "home_gnb.head()"
      ],
      "execution_count": 64,
      "outputs": [
        {
          "output_type": "execute_result",
          "data": {
            "text/html": [
              "<div>\n",
              "<style scoped>\n",
              "    .dataframe tbody tr th:only-of-type {\n",
              "        vertical-align: middle;\n",
              "    }\n",
              "\n",
              "    .dataframe tbody tr th {\n",
              "        vertical-align: top;\n",
              "    }\n",
              "\n",
              "    .dataframe thead th {\n",
              "        text-align: right;\n",
              "    }\n",
              "</style>\n",
              "<table border=\"1\" class=\"dataframe\">\n",
              "  <thead>\n",
              "    <tr style=\"text-align: right;\">\n",
              "      <th></th>\n",
              "      <th>imsi</th>\n",
              "      <th>home_gnb</th>\n",
              "    </tr>\n",
              "  </thead>\n",
              "  <tbody>\n",
              "    <tr>\n",
              "      <th>8</th>\n",
              "      <td>2778514794</td>\n",
              "      <td>40</td>\n",
              "    </tr>\n",
              "    <tr>\n",
              "      <th>12</th>\n",
              "      <td>2778531564</td>\n",
              "      <td>27</td>\n",
              "    </tr>\n",
              "    <tr>\n",
              "      <th>21</th>\n",
              "      <td>2778535004</td>\n",
              "      <td>38</td>\n",
              "    </tr>\n",
              "    <tr>\n",
              "      <th>22</th>\n",
              "      <td>2778540704</td>\n",
              "      <td>7</td>\n",
              "    </tr>\n",
              "    <tr>\n",
              "      <th>30</th>\n",
              "      <td>2778543964</td>\n",
              "      <td>26</td>\n",
              "    </tr>\n",
              "  </tbody>\n",
              "</table>\n",
              "</div>"
            ],
            "text/plain": [
              "          imsi  home_gnb\n",
              "8   2778514794        40\n",
              "12  2778531564        27\n",
              "21  2778535004        38\n",
              "22  2778540704         7\n",
              "30  2778543964        26"
            ]
          },
          "metadata": {
            "tags": []
          },
          "execution_count": 64
        }
      ]
    },
    {
      "cell_type": "markdown",
      "metadata": {
        "id": "N_50mpY6AIzR"
      },
      "source": [
        "`ue_df` records the number of gNodeB's a given user is in for each time of the day"
      ]
    },
    {
      "cell_type": "code",
      "metadata": {
        "colab": {
          "base_uri": "https://localhost:8080/",
          "height": 206
        },
        "id": "A2eakCyzAIzR",
        "outputId": "2a57073b-6553-42da-d8d2-ea1e9676d51d"
      },
      "source": [
        "ue_df = grouped_df.groupby(['imsi', 'time_of_day'])['currentEnb'].count().reset_index()\n",
        "ue_df.head()"
      ],
      "execution_count": 65,
      "outputs": [
        {
          "output_type": "execute_result",
          "data": {
            "text/html": [
              "<div>\n",
              "<style scoped>\n",
              "    .dataframe tbody tr th:only-of-type {\n",
              "        vertical-align: middle;\n",
              "    }\n",
              "\n",
              "    .dataframe tbody tr th {\n",
              "        vertical-align: top;\n",
              "    }\n",
              "\n",
              "    .dataframe thead th {\n",
              "        text-align: right;\n",
              "    }\n",
              "</style>\n",
              "<table border=\"1\" class=\"dataframe\">\n",
              "  <thead>\n",
              "    <tr style=\"text-align: right;\">\n",
              "      <th></th>\n",
              "      <th>imsi</th>\n",
              "      <th>time_of_day</th>\n",
              "      <th>currentEnb</th>\n",
              "    </tr>\n",
              "  </thead>\n",
              "  <tbody>\n",
              "    <tr>\n",
              "      <th>0</th>\n",
              "      <td>2778514794</td>\n",
              "      <td>early_morn</td>\n",
              "      <td>8</td>\n",
              "    </tr>\n",
              "    <tr>\n",
              "      <th>1</th>\n",
              "      <td>2778514794</td>\n",
              "      <td>morning</td>\n",
              "      <td>0</td>\n",
              "    </tr>\n",
              "    <tr>\n",
              "      <th>2</th>\n",
              "      <td>2778514794</td>\n",
              "      <td>noon</td>\n",
              "      <td>0</td>\n",
              "    </tr>\n",
              "    <tr>\n",
              "      <th>3</th>\n",
              "      <td>2778514794</td>\n",
              "      <td>evening</td>\n",
              "      <td>0</td>\n",
              "    </tr>\n",
              "    <tr>\n",
              "      <th>4</th>\n",
              "      <td>2778514794</td>\n",
              "      <td>night</td>\n",
              "      <td>4</td>\n",
              "    </tr>\n",
              "  </tbody>\n",
              "</table>\n",
              "</div>"
            ],
            "text/plain": [
              "         imsi time_of_day  currentEnb\n",
              "0  2778514794  early_morn           8\n",
              "1  2778514794     morning           0\n",
              "2  2778514794        noon           0\n",
              "3  2778514794     evening           0\n",
              "4  2778514794       night           4"
            ]
          },
          "metadata": {
            "tags": []
          },
          "execution_count": 65
        }
      ]
    },
    {
      "cell_type": "markdown",
      "metadata": {
        "id": "uasMw_mAAIzR"
      },
      "source": [
        "`ue_ctxt_df` contains the same information than `ue_df` but pivotted to show a user per row"
      ]
    },
    {
      "cell_type": "code",
      "metadata": {
        "colab": {
          "base_uri": "https://localhost:8080/",
          "height": 237
        },
        "id": "aslRRWNqAIzR",
        "outputId": "b5ff88dd-c0e9-4800-c484-f68ee9ef0745"
      },
      "source": [
        "ue_ctxt_df = pd.pivot_table(ue_df, index='imsi', columns='time_of_day', values='currentEnb', fill_value=0)\n",
        "ue_ctxt_df.head()"
      ],
      "execution_count": 66,
      "outputs": [
        {
          "output_type": "execute_result",
          "data": {
            "text/html": [
              "<div>\n",
              "<style scoped>\n",
              "    .dataframe tbody tr th:only-of-type {\n",
              "        vertical-align: middle;\n",
              "    }\n",
              "\n",
              "    .dataframe tbody tr th {\n",
              "        vertical-align: top;\n",
              "    }\n",
              "\n",
              "    .dataframe thead th {\n",
              "        text-align: right;\n",
              "    }\n",
              "</style>\n",
              "<table border=\"1\" class=\"dataframe\">\n",
              "  <thead>\n",
              "    <tr style=\"text-align: right;\">\n",
              "      <th>time_of_day</th>\n",
              "      <th>early_morn</th>\n",
              "      <th>morning</th>\n",
              "      <th>noon</th>\n",
              "      <th>evening</th>\n",
              "      <th>night</th>\n",
              "    </tr>\n",
              "    <tr>\n",
              "      <th>imsi</th>\n",
              "      <th></th>\n",
              "      <th></th>\n",
              "      <th></th>\n",
              "      <th></th>\n",
              "      <th></th>\n",
              "    </tr>\n",
              "  </thead>\n",
              "  <tbody>\n",
              "    <tr>\n",
              "      <th>2778514794</th>\n",
              "      <td>8</td>\n",
              "      <td>0</td>\n",
              "      <td>0</td>\n",
              "      <td>0</td>\n",
              "      <td>4</td>\n",
              "    </tr>\n",
              "    <tr>\n",
              "      <th>2778531564</th>\n",
              "      <td>4</td>\n",
              "      <td>0</td>\n",
              "      <td>0</td>\n",
              "      <td>0</td>\n",
              "      <td>6</td>\n",
              "    </tr>\n",
              "    <tr>\n",
              "      <th>2778535004</th>\n",
              "      <td>5</td>\n",
              "      <td>0</td>\n",
              "      <td>0</td>\n",
              "      <td>0</td>\n",
              "      <td>7</td>\n",
              "    </tr>\n",
              "    <tr>\n",
              "      <th>2778540704</th>\n",
              "      <td>5</td>\n",
              "      <td>0</td>\n",
              "      <td>0</td>\n",
              "      <td>0</td>\n",
              "      <td>5</td>\n",
              "    </tr>\n",
              "    <tr>\n",
              "      <th>2778543964</th>\n",
              "      <td>3</td>\n",
              "      <td>0</td>\n",
              "      <td>0</td>\n",
              "      <td>0</td>\n",
              "      <td>9</td>\n",
              "    </tr>\n",
              "  </tbody>\n",
              "</table>\n",
              "</div>"
            ],
            "text/plain": [
              "time_of_day  early_morn  morning  noon  evening  night\n",
              "imsi                                                  \n",
              "2778514794            8        0     0        0      4\n",
              "2778531564            4        0     0        0      6\n",
              "2778535004            5        0     0        0      7\n",
              "2778540704            5        0     0        0      5\n",
              "2778543964            3        0     0        0      9"
            ]
          },
          "metadata": {
            "tags": []
          },
          "execution_count": 66
        }
      ]
    },
    {
      "cell_type": "markdown",
      "metadata": {
        "id": "uRYTkvvcAIzR"
      },
      "source": [
        "`seq_df` is an auxiliary dataframe that, for each user, provides its trajectory, the time where each transition happened, the bucketed time it took for each user to move from the previous gNodeB and the signal strength in each gNodeB"
      ]
    },
    {
      "cell_type": "code",
      "metadata": {
        "colab": {
          "base_uri": "https://localhost:8080/",
          "height": 206
        },
        "id": "Akt1SPKwAIzS",
        "outputId": "f90fc02c-6d44-4c82-f4c1-fdc9fc892bb5"
      },
      "source": [
        "seq_df = grouped_df.groupby(['imsi'])['currentEnb', 'timeSlot','transition_slot'] \\\n",
        "                   .agg(lambda x: list(x)).reset_index()\n",
        "\n",
        "seq_df.head()"
      ],
      "execution_count": 67,
      "outputs": [
        {
          "output_type": "execute_result",
          "data": {
            "text/html": [
              "<div>\n",
              "<style scoped>\n",
              "    .dataframe tbody tr th:only-of-type {\n",
              "        vertical-align: middle;\n",
              "    }\n",
              "\n",
              "    .dataframe tbody tr th {\n",
              "        vertical-align: top;\n",
              "    }\n",
              "\n",
              "    .dataframe thead th {\n",
              "        text-align: right;\n",
              "    }\n",
              "</style>\n",
              "<table border=\"1\" class=\"dataframe\">\n",
              "  <thead>\n",
              "    <tr style=\"text-align: right;\">\n",
              "      <th></th>\n",
              "      <th>imsi</th>\n",
              "      <th>currentEnb</th>\n",
              "      <th>timeSlot</th>\n",
              "      <th>transition_slot</th>\n",
              "    </tr>\n",
              "  </thead>\n",
              "  <tbody>\n",
              "    <tr>\n",
              "      <th>0</th>\n",
              "      <td>2778514794</td>\n",
              "      <td>[22, 18, 9, 23, 13, 23, 13, 40, 6, 21, 22, 39]</td>\n",
              "      <td>[0, 0, 1, 1, 2, 2, 2, 2, 48, 49, 49, 50]</td>\n",
              "      <td>[nan, 15, 15, 5, 15, 1, 1, 1, 100, 15, 15, 15]</td>\n",
              "    </tr>\n",
              "    <tr>\n",
              "      <th>1</th>\n",
              "      <td>2778531564</td>\n",
              "      <td>[10, 11, 26, 27, 38, 26, 38, 26, 34, 10]</td>\n",
              "      <td>[0, 0, 1, 1, 48, 49, 49, 49, 49, 50]</td>\n",
              "      <td>[nan, 5, 15, 15, 100, 15, 1, 1, 5, 15]</td>\n",
              "    </tr>\n",
              "    <tr>\n",
              "      <th>2</th>\n",
              "      <td>2778535004</td>\n",
              "      <td>[17, 15, 32, 35, 38, 26, 38, 35, 32, 15, 14, 17]</td>\n",
              "      <td>[0, 0, 0, 1, 1, 48, 48, 48, 49, 49, 49, 50]</td>\n",
              "      <td>[nan, 5, 15, 15, 15, 100, 1, 5, 15, 5, 15, 5]</td>\n",
              "    </tr>\n",
              "    <tr>\n",
              "      <th>3</th>\n",
              "      <td>2778540704</td>\n",
              "      <td>[35, 38, 26, 27, 7, 27, 24, 26, 38, 35]</td>\n",
              "      <td>[0, 0, 0, 1, 2, 48, 48, 49, 49, 50]</td>\n",
              "      <td>[nan, 5, 15, 5, 30, 100, 5, 15, 15, 5]</td>\n",
              "    </tr>\n",
              "    <tr>\n",
              "      <th>4</th>\n",
              "      <td>2778543964</td>\n",
              "      <td>[7, 24, 26, 27, 24, 27, 24, 27, 24, 27, 24, 7]</td>\n",
              "      <td>[0, 0, 1, 48, 48, 48, 48, 48, 48, 48, 49, 49]</td>\n",
              "      <td>[nan, 5, 15, 100, 1, 1, 1, 1, 1, 1, 1, 5]</td>\n",
              "    </tr>\n",
              "  </tbody>\n",
              "</table>\n",
              "</div>"
            ],
            "text/plain": [
              "         imsi  ...                                 transition_slot\n",
              "0  2778514794  ...  [nan, 15, 15, 5, 15, 1, 1, 1, 100, 15, 15, 15]\n",
              "1  2778531564  ...          [nan, 5, 15, 15, 100, 15, 1, 1, 5, 15]\n",
              "2  2778535004  ...   [nan, 5, 15, 15, 15, 100, 1, 5, 15, 5, 15, 5]\n",
              "3  2778540704  ...          [nan, 5, 15, 5, 30, 100, 5, 15, 15, 5]\n",
              "4  2778543964  ...       [nan, 5, 15, 100, 1, 1, 1, 1, 1, 1, 1, 5]\n",
              "\n",
              "[5 rows x 4 columns]"
            ]
          },
          "metadata": {
            "tags": []
          },
          "execution_count": 67
        }
      ]
    },
    {
      "cell_type": "code",
      "metadata": {
        "id": "W9xt9aj2AIzS"
      },
      "source": [
        "def window_sequence(seq, window_size=5):\n",
        "    \"\"\"This function turns a sequence intro \n",
        "    a matrix where each row is a sequence of\n",
        "    the previous 'windows_size' elements\"\"\"\n",
        "    \n",
        "    windows = []\n",
        "    seq_len = len(seq)\n",
        "    for i in range(len(seq) - window_size + 1):\n",
        "        window = []\n",
        "        for j in range(i, i + window_size):\n",
        "            window.append(seq[j])\n",
        "        windows.append(window)\n",
        "    return windows"
      ],
      "execution_count": 68,
      "outputs": []
    },
    {
      "cell_type": "markdown",
      "metadata": {
        "id": "mB_2eZdiAIzS"
      },
      "source": [
        "Each feature in `seq_df` creates a new feature where the sequences from the original feature is recorded (five elements in each sequence):\n",
        "* `gnode_seq` records the sequences of each gNodeB in `currentEnb`.\n",
        "* `time_seq` records the sequences of each timeslots in `timeSlot`.\n",
        "* `trans_seq` records the sequences of each transition slots in `transition_slot`.\n",
        "\n",
        "Additionally, we create a new feature with the number of transitions:\n",
        "* `seq_len`"
      ]
    },
    {
      "cell_type": "code",
      "metadata": {
        "colab": {
          "base_uri": "https://localhost:8080/",
          "height": 597
        },
        "id": "xngGFmdQAIzS",
        "outputId": "8d397fdf-3ac6-486b-9fac-ee12250911fb"
      },
      "source": [
        "seq_df['gnode_seq'] = seq_df['currentEnb'].apply(window_sequence).values\n",
        "seq_df['time_seq'] = seq_df['timeSlot'].apply(window_sequence).values\n",
        "seq_df['trans_seq'] = seq_df['transition_slot'].apply(window_sequence).values\n",
        "seq_df['seq_len'] = seq_df['gnode_seq'].apply(lambda x: len(x))\n",
        "seq_df"
      ],
      "execution_count": 69,
      "outputs": [
        {
          "output_type": "execute_result",
          "data": {
            "text/html": [
              "<div>\n",
              "<style scoped>\n",
              "    .dataframe tbody tr th:only-of-type {\n",
              "        vertical-align: middle;\n",
              "    }\n",
              "\n",
              "    .dataframe tbody tr th {\n",
              "        vertical-align: top;\n",
              "    }\n",
              "\n",
              "    .dataframe thead th {\n",
              "        text-align: right;\n",
              "    }\n",
              "</style>\n",
              "<table border=\"1\" class=\"dataframe\">\n",
              "  <thead>\n",
              "    <tr style=\"text-align: right;\">\n",
              "      <th></th>\n",
              "      <th>imsi</th>\n",
              "      <th>currentEnb</th>\n",
              "      <th>timeSlot</th>\n",
              "      <th>transition_slot</th>\n",
              "      <th>gnode_seq</th>\n",
              "      <th>time_seq</th>\n",
              "      <th>trans_seq</th>\n",
              "      <th>seq_len</th>\n",
              "    </tr>\n",
              "  </thead>\n",
              "  <tbody>\n",
              "    <tr>\n",
              "      <th>0</th>\n",
              "      <td>2778514794</td>\n",
              "      <td>[22, 18, 9, 23, 13, 23, 13, 40, 6, 21, 22, 39]</td>\n",
              "      <td>[0, 0, 1, 1, 2, 2, 2, 2, 48, 49, 49, 50]</td>\n",
              "      <td>[nan, 15, 15, 5, 15, 1, 1, 1, 100, 15, 15, 15]</td>\n",
              "      <td>[[22, 18, 9, 23, 13], [18, 9, 23, 13, 23], [9,...</td>\n",
              "      <td>[[0, 0, 1, 1, 2], [0, 1, 1, 2, 2], [1, 1, 2, 2...</td>\n",
              "      <td>[[nan, 15, 15, 5, 15], [15, 15, 5, 15, 1], [15...</td>\n",
              "      <td>8</td>\n",
              "    </tr>\n",
              "    <tr>\n",
              "      <th>1</th>\n",
              "      <td>2778531564</td>\n",
              "      <td>[10, 11, 26, 27, 38, 26, 38, 26, 34, 10]</td>\n",
              "      <td>[0, 0, 1, 1, 48, 49, 49, 49, 49, 50]</td>\n",
              "      <td>[nan, 5, 15, 15, 100, 15, 1, 1, 5, 15]</td>\n",
              "      <td>[[10, 11, 26, 27, 38], [11, 26, 27, 38, 26], [...</td>\n",
              "      <td>[[0, 0, 1, 1, 48], [0, 1, 1, 48, 49], [1, 1, 4...</td>\n",
              "      <td>[[nan, 5, 15, 15, 100], [5, 15, 15, 100, 15], ...</td>\n",
              "      <td>6</td>\n",
              "    </tr>\n",
              "    <tr>\n",
              "      <th>2</th>\n",
              "      <td>2778535004</td>\n",
              "      <td>[17, 15, 32, 35, 38, 26, 38, 35, 32, 15, 14, 17]</td>\n",
              "      <td>[0, 0, 0, 1, 1, 48, 48, 48, 49, 49, 49, 50]</td>\n",
              "      <td>[nan, 5, 15, 15, 15, 100, 1, 5, 15, 5, 15, 5]</td>\n",
              "      <td>[[17, 15, 32, 35, 38], [15, 32, 35, 38, 26], [...</td>\n",
              "      <td>[[0, 0, 0, 1, 1], [0, 0, 1, 1, 48], [0, 1, 1, ...</td>\n",
              "      <td>[[nan, 5, 15, 15, 15], [5, 15, 15, 15, 100], [...</td>\n",
              "      <td>8</td>\n",
              "    </tr>\n",
              "    <tr>\n",
              "      <th>3</th>\n",
              "      <td>2778540704</td>\n",
              "      <td>[35, 38, 26, 27, 7, 27, 24, 26, 38, 35]</td>\n",
              "      <td>[0, 0, 0, 1, 2, 48, 48, 49, 49, 50]</td>\n",
              "      <td>[nan, 5, 15, 5, 30, 100, 5, 15, 15, 5]</td>\n",
              "      <td>[[35, 38, 26, 27, 7], [38, 26, 27, 7, 27], [26...</td>\n",
              "      <td>[[0, 0, 0, 1, 2], [0, 0, 1, 2, 48], [0, 1, 2, ...</td>\n",
              "      <td>[[nan, 5, 15, 5, 30], [5, 15, 5, 30, 100], [15...</td>\n",
              "      <td>6</td>\n",
              "    </tr>\n",
              "    <tr>\n",
              "      <th>4</th>\n",
              "      <td>2778543964</td>\n",
              "      <td>[7, 24, 26, 27, 24, 27, 24, 27, 24, 27, 24, 7]</td>\n",
              "      <td>[0, 0, 1, 48, 48, 48, 48, 48, 48, 48, 49, 49]</td>\n",
              "      <td>[nan, 5, 15, 100, 1, 1, 1, 1, 1, 1, 1, 5]</td>\n",
              "      <td>[[7, 24, 26, 27, 24], [24, 26, 27, 24, 27], [2...</td>\n",
              "      <td>[[0, 0, 1, 48, 48], [0, 1, 48, 48, 48], [1, 48...</td>\n",
              "      <td>[[nan, 5, 15, 100, 1], [5, 15, 100, 1, 1], [15...</td>\n",
              "      <td>8</td>\n",
              "    </tr>\n",
              "    <tr>\n",
              "      <th>...</th>\n",
              "      <td>...</td>\n",
              "      <td>...</td>\n",
              "      <td>...</td>\n",
              "      <td>...</td>\n",
              "      <td>...</td>\n",
              "      <td>...</td>\n",
              "      <td>...</td>\n",
              "      <td>...</td>\n",
              "    </tr>\n",
              "    <tr>\n",
              "      <th>8629</th>\n",
              "      <td>2797485664</td>\n",
              "      <td>[33, 34, 35, 38, 37, 38, 35, 34, 33]</td>\n",
              "      <td>[0, 0, 0, 1, 1, 1, 48, 48, 49]</td>\n",
              "      <td>[nan, 15, 5, 15, 1, 1, 100, 15, 15]</td>\n",
              "      <td>[[33, 34, 35, 38, 37], [34, 35, 38, 37, 38], [...</td>\n",
              "      <td>[[0, 0, 0, 1, 1], [0, 0, 1, 1, 1], [0, 1, 1, 1...</td>\n",
              "      <td>[[nan, 15, 5, 15, 1], [15, 5, 15, 1, 1], [5, 1...</td>\n",
              "      <td>5</td>\n",
              "    </tr>\n",
              "    <tr>\n",
              "      <th>8630</th>\n",
              "      <td>2797487414</td>\n",
              "      <td>[38, 26, 11, 24, 13, 24, 13, 24, 40, 24, 27, 2...</td>\n",
              "      <td>[0, 0, 0, 1, 1, 1, 1, 1, 1, 48, 48, 49, 49]</td>\n",
              "      <td>[nan, 5, 15, 15, 1, 1, 1, 1, 5, 100, 15, 5, 5]</td>\n",
              "      <td>[[38, 26, 11, 24, 13], [26, 11, 24, 13, 24], [...</td>\n",
              "      <td>[[0, 0, 0, 1, 1], [0, 0, 1, 1, 1], [0, 1, 1, 1...</td>\n",
              "      <td>[[nan, 5, 15, 15, 1], [5, 15, 15, 1, 1], [15, ...</td>\n",
              "      <td>9</td>\n",
              "    </tr>\n",
              "    <tr>\n",
              "      <th>8631</th>\n",
              "      <td>2797489164</td>\n",
              "      <td>[10, 11, 13, 24, 11, 10]</td>\n",
              "      <td>[0, 0, 0, 0, 48, 49]</td>\n",
              "      <td>[nan, 1, 15, 5, 100, 15]</td>\n",
              "      <td>[[10, 11, 13, 24, 11], [11, 13, 24, 11, 10]]</td>\n",
              "      <td>[[0, 0, 0, 0, 48], [0, 0, 0, 48, 49]]</td>\n",
              "      <td>[[nan, 1, 15, 5, 100], [1, 15, 5, 100, 15]]</td>\n",
              "      <td>2</td>\n",
              "    </tr>\n",
              "    <tr>\n",
              "      <th>8632</th>\n",
              "      <td>2797490924</td>\n",
              "      <td>[15, 33, 34, 26, 38, 27, 38, 27, 37, 35, 32, 15]</td>\n",
              "      <td>[0, 0, 0, 1, 2, 2, 2, 2, 48, 49, 50, 50]</td>\n",
              "      <td>[nan, 5, 15, 15, 15, 5, 1, 1, 100, 30, 15, 5]</td>\n",
              "      <td>[[15, 33, 34, 26, 38], [33, 34, 26, 38, 27], [...</td>\n",
              "      <td>[[0, 0, 0, 1, 2], [0, 0, 1, 2, 2], [0, 1, 2, 2...</td>\n",
              "      <td>[[nan, 5, 15, 15, 15], [5, 15, 15, 15, 5], [15...</td>\n",
              "      <td>8</td>\n",
              "    </tr>\n",
              "    <tr>\n",
              "      <th>8633</th>\n",
              "      <td>2797492664</td>\n",
              "      <td>[33, 34, 26, 24, 27, 24, 26, 11, 34, 33]</td>\n",
              "      <td>[0, 0, 0, 1, 1, 1, 48, 48, 49, 49]</td>\n",
              "      <td>[nan, 5, 15, 15, 5, 1, 100, 5, 15, 15]</td>\n",
              "      <td>[[33, 34, 26, 24, 27], [34, 26, 24, 27, 24], [...</td>\n",
              "      <td>[[0, 0, 0, 1, 1], [0, 0, 1, 1, 1], [0, 1, 1, 1...</td>\n",
              "      <td>[[nan, 5, 15, 15, 5], [5, 15, 15, 5, 1], [15, ...</td>\n",
              "      <td>6</td>\n",
              "    </tr>\n",
              "  </tbody>\n",
              "</table>\n",
              "<p>8634 rows × 8 columns</p>\n",
              "</div>"
            ],
            "text/plain": [
              "            imsi  ... seq_len\n",
              "0     2778514794  ...       8\n",
              "1     2778531564  ...       6\n",
              "2     2778535004  ...       8\n",
              "3     2778540704  ...       6\n",
              "4     2778543964  ...       8\n",
              "...          ...  ...     ...\n",
              "8629  2797485664  ...       5\n",
              "8630  2797487414  ...       9\n",
              "8631  2797489164  ...       2\n",
              "8632  2797490924  ...       8\n",
              "8633  2797492664  ...       6\n",
              "\n",
              "[8634 rows x 8 columns]"
            ]
          },
          "metadata": {
            "tags": []
          },
          "execution_count": 69
        }
      ]
    },
    {
      "cell_type": "markdown",
      "metadata": {
        "id": "bXIwvetTAIzT"
      },
      "source": [
        "Next, we transform each sequence feature into a new dataframe"
      ]
    },
    {
      "cell_type": "code",
      "metadata": {
        "id": "bZugagY3AIzT"
      },
      "source": [
        "enode_seq_list = [sequence for sequences in seq_df['gnode_seq'] for sequence in sequences]\n",
        "time_seq_list = [sequence for sequences in seq_df['time_seq'] for sequence in sequences]\n",
        "trans_seq_list = [sequence for sequences in seq_df['trans_seq'] for sequence in sequences]\n",
        "\n",
        "enode_df = pd.DataFrame(enode_seq_list, columns=['gnode_1', 'gnode_2', 'gnode_3', 'gnode_4', 'target_gnb'])\n",
        "time_df = pd.DataFrame(time_seq_list, columns=['time_1', 'time_2', 'time_3', 'time_4', 'target_time'])\n",
        "trans_df = pd.DataFrame(trans_seq_list, columns=['trans_1', 'trans_2', 'trans_3', 'trans_4', 'target_trans_slot'])"
      ],
      "execution_count": 70,
      "outputs": []
    },
    {
      "cell_type": "code",
      "metadata": {
        "id": "43jkahYqAIzT"
      },
      "source": [
        "imsi_list = list()\n",
        "for a, b in zip(seq_df['imsi'], seq_df['seq_len']):\n",
        "    imsi_list.extend([a] * b)"
      ],
      "execution_count": 71,
      "outputs": []
    },
    {
      "cell_type": "markdown",
      "metadata": {
        "id": "Ce0vPXj-AIzT"
      },
      "source": [
        "Finally, we create the dataset that will be used for prediction. What we want to predict is what follows: given a detected transition to a given gNodeB, which will be the following gNodeB and when will it happen?\n",
        "\n",
        "Thus, the targets are:\n",
        "* `target_gnb`: Next gNodeB\n",
        "* `target_trans_slot`: Time it will take to move to the next gNodeB.\n",
        "\n",
        "The following features will be considered:\n",
        "* `enode_1`: The fourth previous gNodeB in a given sequence. Depends on the current user's trajectory.\n",
        "* `enode_2`: The third previous gNodeB in a given sequence. Depends on the current user's trajectory.\n",
        "* `enode_3`: The second previous gNodeB in a given sequence. Depends on the current user's trajectory.\n",
        "* `enode_4`: The first previous gNodeB in a given sequence. Depends on the current user's trajectory.\n",
        "* `time_1`: The time where the user moved to the fourth previous gNodeB in a given sequence. Depends on the current user's trajectory.\n",
        "* `time_2`: The time where the user moved to the third previous gNodeB in a given sequence. Depends on the current user's trajectory.\n",
        "* `time_3`: The time where the user moved to the second previous gNodeB in a given sequence. Depends on the current user's trajectory.\n",
        "* `time_4`: The time where the user moved to the first previous gNodeB in a given sequence. Depends on the current user's trajectory.\n",
        "* `home_gnb`: The gNodeB where the user doing for a given trajectory stays more times within a day. It's is a historical data.\n",
        "* `early_morn`: The number of gNodeB's where the user for a given trajectory stays in the early morning. It's is a historical data.\n",
        "* `morning`: The number of gNodeB's where the user for a given trajectory stays in the morning. It's is a historical data.\n",
        "* `noon`: The number of gNodeB's where the user for a given trajectory stays at noon. It's is a historical data.\n",
        "* `evening`: The number of gNodeB's where the user for a given trajectory stays in the evening. It's is a historical data.\n",
        "* `night`: The number of gNodeB's where the user for a given trajectory stays at night. It's is a historical data.\n",
        "* `neigh_1`: One of the four closest gNodeB's to `enode_4`. It's is a static data.\n",
        "* `neigh_2`: One of the four closest gNodeB's to `enode_4`. It's is a static data.\n",
        "* `neigh_3`: One of the four closest gNodeB's to `enode_4`. It's is a static data.\n",
        "* `neigh_4`: One of the four closest gNodeB's to `enode_4`. It's is a static data."
      ]
    },
    {
      "cell_type": "code",
      "metadata": {
        "id": "yYnVAchAAIzU"
      },
      "source": [
        "X_train = pd.concat([enode_df, time_df], axis=1)\n",
        "X_train['target_trans_slot'] = trans_df['target_trans_slot']\n",
        "X_train['imsi'] = imsi_list"
      ],
      "execution_count": 72,
      "outputs": []
    },
    {
      "cell_type": "code",
      "metadata": {
        "id": "wR41vw5-AIzU"
      },
      "source": [
        "X_train = X_train.merge(home_gnb, on='imsi').merge(ue_ctxt_df, on='imsi')"
      ],
      "execution_count": 73,
      "outputs": []
    },
    {
      "cell_type": "code",
      "metadata": {
        "id": "NvdFr10BAIzU"
      },
      "source": [
        "X_train = X_train.merge(gnb_neigh, left_on='gnode_4', right_on='gnodeB', how='left')"
      ],
      "execution_count": 74,
      "outputs": []
    },
    {
      "cell_type": "code",
      "metadata": {
        "id": "scAyIkeKAIzV"
      },
      "source": [
        "del X_train['gnodeB']"
      ],
      "execution_count": 75,
      "outputs": []
    },
    {
      "cell_type": "code",
      "metadata": {
        "colab": {
          "base_uri": "https://localhost:8080/",
          "height": 443
        },
        "id": "NQiB6aYzAIzV",
        "outputId": "61a3d8b1-e516-46dd-e732-e2e54ebc8f5b"
      },
      "source": [
        "X_train.dropna(inplace=True)\n",
        "X_train"
      ],
      "execution_count": 76,
      "outputs": [
        {
          "output_type": "execute_result",
          "data": {
            "text/html": [
              "<div>\n",
              "<style scoped>\n",
              "    .dataframe tbody tr th:only-of-type {\n",
              "        vertical-align: middle;\n",
              "    }\n",
              "\n",
              "    .dataframe tbody tr th {\n",
              "        vertical-align: top;\n",
              "    }\n",
              "\n",
              "    .dataframe thead th {\n",
              "        text-align: right;\n",
              "    }\n",
              "</style>\n",
              "<table border=\"1\" class=\"dataframe\">\n",
              "  <thead>\n",
              "    <tr style=\"text-align: right;\">\n",
              "      <th></th>\n",
              "      <th>gnode_1</th>\n",
              "      <th>gnode_2</th>\n",
              "      <th>gnode_3</th>\n",
              "      <th>gnode_4</th>\n",
              "      <th>target_gnb</th>\n",
              "      <th>time_1</th>\n",
              "      <th>time_2</th>\n",
              "      <th>time_3</th>\n",
              "      <th>time_4</th>\n",
              "      <th>target_time</th>\n",
              "      <th>target_trans_slot</th>\n",
              "      <th>imsi</th>\n",
              "      <th>home_gnb</th>\n",
              "      <th>early_morn</th>\n",
              "      <th>morning</th>\n",
              "      <th>noon</th>\n",
              "      <th>evening</th>\n",
              "      <th>night</th>\n",
              "      <th>neigh_1</th>\n",
              "      <th>neigh_2</th>\n",
              "      <th>neigh_3</th>\n",
              "      <th>neigh_4</th>\n",
              "    </tr>\n",
              "  </thead>\n",
              "  <tbody>\n",
              "    <tr>\n",
              "      <th>0</th>\n",
              "      <td>22</td>\n",
              "      <td>18</td>\n",
              "      <td>9</td>\n",
              "      <td>23</td>\n",
              "      <td>13</td>\n",
              "      <td>0</td>\n",
              "      <td>0</td>\n",
              "      <td>1</td>\n",
              "      <td>1</td>\n",
              "      <td>2</td>\n",
              "      <td>15</td>\n",
              "      <td>2778514794</td>\n",
              "      <td>40</td>\n",
              "      <td>8</td>\n",
              "      <td>0</td>\n",
              "      <td>0</td>\n",
              "      <td>0</td>\n",
              "      <td>4</td>\n",
              "      <td>21</td>\n",
              "      <td>6</td>\n",
              "      <td>13</td>\n",
              "      <td>9</td>\n",
              "    </tr>\n",
              "    <tr>\n",
              "      <th>1</th>\n",
              "      <td>18</td>\n",
              "      <td>9</td>\n",
              "      <td>23</td>\n",
              "      <td>13</td>\n",
              "      <td>23</td>\n",
              "      <td>0</td>\n",
              "      <td>1</td>\n",
              "      <td>1</td>\n",
              "      <td>2</td>\n",
              "      <td>2</td>\n",
              "      <td>1</td>\n",
              "      <td>2778514794</td>\n",
              "      <td>40</td>\n",
              "      <td>8</td>\n",
              "      <td>0</td>\n",
              "      <td>0</td>\n",
              "      <td>0</td>\n",
              "      <td>4</td>\n",
              "      <td>11</td>\n",
              "      <td>23</td>\n",
              "      <td>24</td>\n",
              "      <td>40</td>\n",
              "    </tr>\n",
              "    <tr>\n",
              "      <th>2</th>\n",
              "      <td>9</td>\n",
              "      <td>23</td>\n",
              "      <td>13</td>\n",
              "      <td>23</td>\n",
              "      <td>13</td>\n",
              "      <td>1</td>\n",
              "      <td>1</td>\n",
              "      <td>2</td>\n",
              "      <td>2</td>\n",
              "      <td>2</td>\n",
              "      <td>1</td>\n",
              "      <td>2778514794</td>\n",
              "      <td>40</td>\n",
              "      <td>8</td>\n",
              "      <td>0</td>\n",
              "      <td>0</td>\n",
              "      <td>0</td>\n",
              "      <td>4</td>\n",
              "      <td>21</td>\n",
              "      <td>6</td>\n",
              "      <td>13</td>\n",
              "      <td>9</td>\n",
              "    </tr>\n",
              "    <tr>\n",
              "      <th>3</th>\n",
              "      <td>23</td>\n",
              "      <td>13</td>\n",
              "      <td>23</td>\n",
              "      <td>13</td>\n",
              "      <td>40</td>\n",
              "      <td>1</td>\n",
              "      <td>2</td>\n",
              "      <td>2</td>\n",
              "      <td>2</td>\n",
              "      <td>2</td>\n",
              "      <td>1</td>\n",
              "      <td>2778514794</td>\n",
              "      <td>40</td>\n",
              "      <td>8</td>\n",
              "      <td>0</td>\n",
              "      <td>0</td>\n",
              "      <td>0</td>\n",
              "      <td>4</td>\n",
              "      <td>11</td>\n",
              "      <td>23</td>\n",
              "      <td>24</td>\n",
              "      <td>40</td>\n",
              "    </tr>\n",
              "    <tr>\n",
              "      <th>4</th>\n",
              "      <td>13</td>\n",
              "      <td>23</td>\n",
              "      <td>13</td>\n",
              "      <td>40</td>\n",
              "      <td>6</td>\n",
              "      <td>2</td>\n",
              "      <td>2</td>\n",
              "      <td>2</td>\n",
              "      <td>2</td>\n",
              "      <td>48</td>\n",
              "      <td>100</td>\n",
              "      <td>2778514794</td>\n",
              "      <td>40</td>\n",
              "      <td>8</td>\n",
              "      <td>0</td>\n",
              "      <td>0</td>\n",
              "      <td>0</td>\n",
              "      <td>4</td>\n",
              "      <td>25</td>\n",
              "      <td>6</td>\n",
              "      <td>24</td>\n",
              "      <td>23</td>\n",
              "    </tr>\n",
              "    <tr>\n",
              "      <th>...</th>\n",
              "      <td>...</td>\n",
              "      <td>...</td>\n",
              "      <td>...</td>\n",
              "      <td>...</td>\n",
              "      <td>...</td>\n",
              "      <td>...</td>\n",
              "      <td>...</td>\n",
              "      <td>...</td>\n",
              "      <td>...</td>\n",
              "      <td>...</td>\n",
              "      <td>...</td>\n",
              "      <td>...</td>\n",
              "      <td>...</td>\n",
              "      <td>...</td>\n",
              "      <td>...</td>\n",
              "      <td>...</td>\n",
              "      <td>...</td>\n",
              "      <td>...</td>\n",
              "      <td>...</td>\n",
              "      <td>...</td>\n",
              "      <td>...</td>\n",
              "      <td>...</td>\n",
              "    </tr>\n",
              "    <tr>\n",
              "      <th>73573</th>\n",
              "      <td>34</td>\n",
              "      <td>26</td>\n",
              "      <td>24</td>\n",
              "      <td>27</td>\n",
              "      <td>24</td>\n",
              "      <td>0</td>\n",
              "      <td>0</td>\n",
              "      <td>1</td>\n",
              "      <td>1</td>\n",
              "      <td>1</td>\n",
              "      <td>1</td>\n",
              "      <td>2797492664</td>\n",
              "      <td>24</td>\n",
              "      <td>6</td>\n",
              "      <td>0</td>\n",
              "      <td>0</td>\n",
              "      <td>0</td>\n",
              "      <td>4</td>\n",
              "      <td>24</td>\n",
              "      <td>7</td>\n",
              "      <td>26</td>\n",
              "      <td>38</td>\n",
              "    </tr>\n",
              "    <tr>\n",
              "      <th>73574</th>\n",
              "      <td>26</td>\n",
              "      <td>24</td>\n",
              "      <td>27</td>\n",
              "      <td>24</td>\n",
              "      <td>26</td>\n",
              "      <td>0</td>\n",
              "      <td>1</td>\n",
              "      <td>1</td>\n",
              "      <td>1</td>\n",
              "      <td>48</td>\n",
              "      <td>100</td>\n",
              "      <td>2797492664</td>\n",
              "      <td>24</td>\n",
              "      <td>6</td>\n",
              "      <td>0</td>\n",
              "      <td>0</td>\n",
              "      <td>0</td>\n",
              "      <td>4</td>\n",
              "      <td>40</td>\n",
              "      <td>13</td>\n",
              "      <td>27</td>\n",
              "      <td>26</td>\n",
              "    </tr>\n",
              "    <tr>\n",
              "      <th>73575</th>\n",
              "      <td>24</td>\n",
              "      <td>27</td>\n",
              "      <td>24</td>\n",
              "      <td>26</td>\n",
              "      <td>11</td>\n",
              "      <td>1</td>\n",
              "      <td>1</td>\n",
              "      <td>1</td>\n",
              "      <td>48</td>\n",
              "      <td>48</td>\n",
              "      <td>5</td>\n",
              "      <td>2797492664</td>\n",
              "      <td>24</td>\n",
              "      <td>6</td>\n",
              "      <td>0</td>\n",
              "      <td>0</td>\n",
              "      <td>0</td>\n",
              "      <td>4</td>\n",
              "      <td>11</td>\n",
              "      <td>38</td>\n",
              "      <td>34</td>\n",
              "      <td>24</td>\n",
              "    </tr>\n",
              "    <tr>\n",
              "      <th>73576</th>\n",
              "      <td>27</td>\n",
              "      <td>24</td>\n",
              "      <td>26</td>\n",
              "      <td>11</td>\n",
              "      <td>34</td>\n",
              "      <td>1</td>\n",
              "      <td>1</td>\n",
              "      <td>48</td>\n",
              "      <td>48</td>\n",
              "      <td>49</td>\n",
              "      <td>15</td>\n",
              "      <td>2797492664</td>\n",
              "      <td>24</td>\n",
              "      <td>6</td>\n",
              "      <td>0</td>\n",
              "      <td>0</td>\n",
              "      <td>0</td>\n",
              "      <td>4</td>\n",
              "      <td>13</td>\n",
              "      <td>26</td>\n",
              "      <td>34</td>\n",
              "      <td>10</td>\n",
              "    </tr>\n",
              "    <tr>\n",
              "      <th>73577</th>\n",
              "      <td>24</td>\n",
              "      <td>26</td>\n",
              "      <td>11</td>\n",
              "      <td>34</td>\n",
              "      <td>33</td>\n",
              "      <td>1</td>\n",
              "      <td>48</td>\n",
              "      <td>48</td>\n",
              "      <td>49</td>\n",
              "      <td>49</td>\n",
              "      <td>15</td>\n",
              "      <td>2797492664</td>\n",
              "      <td>24</td>\n",
              "      <td>6</td>\n",
              "      <td>0</td>\n",
              "      <td>0</td>\n",
              "      <td>0</td>\n",
              "      <td>4</td>\n",
              "      <td>35</td>\n",
              "      <td>33</td>\n",
              "      <td>10</td>\n",
              "      <td>38</td>\n",
              "    </tr>\n",
              "  </tbody>\n",
              "</table>\n",
              "<p>73578 rows × 22 columns</p>\n",
              "</div>"
            ],
            "text/plain": [
              "       gnode_1  gnode_2  gnode_3  gnode_4  ...  neigh_1  neigh_2  neigh_3  neigh_4\n",
              "0           22       18        9       23  ...       21        6       13        9\n",
              "1           18        9       23       13  ...       11       23       24       40\n",
              "2            9       23       13       23  ...       21        6       13        9\n",
              "3           23       13       23       13  ...       11       23       24       40\n",
              "4           13       23       13       40  ...       25        6       24       23\n",
              "...        ...      ...      ...      ...  ...      ...      ...      ...      ...\n",
              "73573       34       26       24       27  ...       24        7       26       38\n",
              "73574       26       24       27       24  ...       40       13       27       26\n",
              "73575       24       27       24       26  ...       11       38       34       24\n",
              "73576       27       24       26       11  ...       13       26       34       10\n",
              "73577       24       26       11       34  ...       35       33       10       38\n",
              "\n",
              "[73578 rows x 22 columns]"
            ]
          },
          "metadata": {
            "tags": []
          },
          "execution_count": 76
        }
      ]
    },
    {
      "cell_type": "code",
      "metadata": {
        "colab": {
          "base_uri": "https://localhost:8080/",
          "height": 423
        },
        "id": "-oMip-u4AIzW",
        "outputId": "f8332d24-c7a5-4e0f-e143-6e2261df38df"
      },
      "source": [
        "y_train = X_train[['target_gnb', 'target_trans_slot']]\n",
        "y_train"
      ],
      "execution_count": 77,
      "outputs": [
        {
          "output_type": "execute_result",
          "data": {
            "text/html": [
              "<div>\n",
              "<style scoped>\n",
              "    .dataframe tbody tr th:only-of-type {\n",
              "        vertical-align: middle;\n",
              "    }\n",
              "\n",
              "    .dataframe tbody tr th {\n",
              "        vertical-align: top;\n",
              "    }\n",
              "\n",
              "    .dataframe thead th {\n",
              "        text-align: right;\n",
              "    }\n",
              "</style>\n",
              "<table border=\"1\" class=\"dataframe\">\n",
              "  <thead>\n",
              "    <tr style=\"text-align: right;\">\n",
              "      <th></th>\n",
              "      <th>target_gnb</th>\n",
              "      <th>target_trans_slot</th>\n",
              "    </tr>\n",
              "  </thead>\n",
              "  <tbody>\n",
              "    <tr>\n",
              "      <th>0</th>\n",
              "      <td>13</td>\n",
              "      <td>15</td>\n",
              "    </tr>\n",
              "    <tr>\n",
              "      <th>1</th>\n",
              "      <td>23</td>\n",
              "      <td>1</td>\n",
              "    </tr>\n",
              "    <tr>\n",
              "      <th>2</th>\n",
              "      <td>13</td>\n",
              "      <td>1</td>\n",
              "    </tr>\n",
              "    <tr>\n",
              "      <th>3</th>\n",
              "      <td>40</td>\n",
              "      <td>1</td>\n",
              "    </tr>\n",
              "    <tr>\n",
              "      <th>4</th>\n",
              "      <td>6</td>\n",
              "      <td>100</td>\n",
              "    </tr>\n",
              "    <tr>\n",
              "      <th>...</th>\n",
              "      <td>...</td>\n",
              "      <td>...</td>\n",
              "    </tr>\n",
              "    <tr>\n",
              "      <th>73573</th>\n",
              "      <td>24</td>\n",
              "      <td>1</td>\n",
              "    </tr>\n",
              "    <tr>\n",
              "      <th>73574</th>\n",
              "      <td>26</td>\n",
              "      <td>100</td>\n",
              "    </tr>\n",
              "    <tr>\n",
              "      <th>73575</th>\n",
              "      <td>11</td>\n",
              "      <td>5</td>\n",
              "    </tr>\n",
              "    <tr>\n",
              "      <th>73576</th>\n",
              "      <td>34</td>\n",
              "      <td>15</td>\n",
              "    </tr>\n",
              "    <tr>\n",
              "      <th>73577</th>\n",
              "      <td>33</td>\n",
              "      <td>15</td>\n",
              "    </tr>\n",
              "  </tbody>\n",
              "</table>\n",
              "<p>73578 rows × 2 columns</p>\n",
              "</div>"
            ],
            "text/plain": [
              "       target_gnb  target_trans_slot\n",
              "0              13                 15\n",
              "1              23                  1\n",
              "2              13                  1\n",
              "3              40                  1\n",
              "4               6                100\n",
              "...           ...                ...\n",
              "73573          24                  1\n",
              "73574          26                100\n",
              "73575          11                  5\n",
              "73576          34                 15\n",
              "73577          33                 15\n",
              "\n",
              "[73578 rows x 2 columns]"
            ]
          },
          "metadata": {
            "tags": []
          },
          "execution_count": 77
        }
      ]
    },
    {
      "cell_type": "code",
      "metadata": {
        "colab": {
          "base_uri": "https://localhost:8080/",
          "height": 423
        },
        "id": "1T9KNdlXAIzW",
        "outputId": "2738c119-22a8-48a3-8925-1060c935f9ce"
      },
      "source": [
        "to_drop_cols = ['target_gnb',\n",
        "                'target_trans_slot',\n",
        "                'target_time',\n",
        "                'imsi'\n",
        "               ]\n",
        "X_train.drop(columns=to_drop_cols, axis=1, inplace=True)\n",
        "X_train"
      ],
      "execution_count": 78,
      "outputs": [
        {
          "output_type": "execute_result",
          "data": {
            "text/html": [
              "<div>\n",
              "<style scoped>\n",
              "    .dataframe tbody tr th:only-of-type {\n",
              "        vertical-align: middle;\n",
              "    }\n",
              "\n",
              "    .dataframe tbody tr th {\n",
              "        vertical-align: top;\n",
              "    }\n",
              "\n",
              "    .dataframe thead th {\n",
              "        text-align: right;\n",
              "    }\n",
              "</style>\n",
              "<table border=\"1\" class=\"dataframe\">\n",
              "  <thead>\n",
              "    <tr style=\"text-align: right;\">\n",
              "      <th></th>\n",
              "      <th>gnode_1</th>\n",
              "      <th>gnode_2</th>\n",
              "      <th>gnode_3</th>\n",
              "      <th>gnode_4</th>\n",
              "      <th>time_1</th>\n",
              "      <th>time_2</th>\n",
              "      <th>time_3</th>\n",
              "      <th>time_4</th>\n",
              "      <th>home_gnb</th>\n",
              "      <th>early_morn</th>\n",
              "      <th>morning</th>\n",
              "      <th>noon</th>\n",
              "      <th>evening</th>\n",
              "      <th>night</th>\n",
              "      <th>neigh_1</th>\n",
              "      <th>neigh_2</th>\n",
              "      <th>neigh_3</th>\n",
              "      <th>neigh_4</th>\n",
              "    </tr>\n",
              "  </thead>\n",
              "  <tbody>\n",
              "    <tr>\n",
              "      <th>0</th>\n",
              "      <td>22</td>\n",
              "      <td>18</td>\n",
              "      <td>9</td>\n",
              "      <td>23</td>\n",
              "      <td>0</td>\n",
              "      <td>0</td>\n",
              "      <td>1</td>\n",
              "      <td>1</td>\n",
              "      <td>40</td>\n",
              "      <td>8</td>\n",
              "      <td>0</td>\n",
              "      <td>0</td>\n",
              "      <td>0</td>\n",
              "      <td>4</td>\n",
              "      <td>21</td>\n",
              "      <td>6</td>\n",
              "      <td>13</td>\n",
              "      <td>9</td>\n",
              "    </tr>\n",
              "    <tr>\n",
              "      <th>1</th>\n",
              "      <td>18</td>\n",
              "      <td>9</td>\n",
              "      <td>23</td>\n",
              "      <td>13</td>\n",
              "      <td>0</td>\n",
              "      <td>1</td>\n",
              "      <td>1</td>\n",
              "      <td>2</td>\n",
              "      <td>40</td>\n",
              "      <td>8</td>\n",
              "      <td>0</td>\n",
              "      <td>0</td>\n",
              "      <td>0</td>\n",
              "      <td>4</td>\n",
              "      <td>11</td>\n",
              "      <td>23</td>\n",
              "      <td>24</td>\n",
              "      <td>40</td>\n",
              "    </tr>\n",
              "    <tr>\n",
              "      <th>2</th>\n",
              "      <td>9</td>\n",
              "      <td>23</td>\n",
              "      <td>13</td>\n",
              "      <td>23</td>\n",
              "      <td>1</td>\n",
              "      <td>1</td>\n",
              "      <td>2</td>\n",
              "      <td>2</td>\n",
              "      <td>40</td>\n",
              "      <td>8</td>\n",
              "      <td>0</td>\n",
              "      <td>0</td>\n",
              "      <td>0</td>\n",
              "      <td>4</td>\n",
              "      <td>21</td>\n",
              "      <td>6</td>\n",
              "      <td>13</td>\n",
              "      <td>9</td>\n",
              "    </tr>\n",
              "    <tr>\n",
              "      <th>3</th>\n",
              "      <td>23</td>\n",
              "      <td>13</td>\n",
              "      <td>23</td>\n",
              "      <td>13</td>\n",
              "      <td>1</td>\n",
              "      <td>2</td>\n",
              "      <td>2</td>\n",
              "      <td>2</td>\n",
              "      <td>40</td>\n",
              "      <td>8</td>\n",
              "      <td>0</td>\n",
              "      <td>0</td>\n",
              "      <td>0</td>\n",
              "      <td>4</td>\n",
              "      <td>11</td>\n",
              "      <td>23</td>\n",
              "      <td>24</td>\n",
              "      <td>40</td>\n",
              "    </tr>\n",
              "    <tr>\n",
              "      <th>4</th>\n",
              "      <td>13</td>\n",
              "      <td>23</td>\n",
              "      <td>13</td>\n",
              "      <td>40</td>\n",
              "      <td>2</td>\n",
              "      <td>2</td>\n",
              "      <td>2</td>\n",
              "      <td>2</td>\n",
              "      <td>40</td>\n",
              "      <td>8</td>\n",
              "      <td>0</td>\n",
              "      <td>0</td>\n",
              "      <td>0</td>\n",
              "      <td>4</td>\n",
              "      <td>25</td>\n",
              "      <td>6</td>\n",
              "      <td>24</td>\n",
              "      <td>23</td>\n",
              "    </tr>\n",
              "    <tr>\n",
              "      <th>...</th>\n",
              "      <td>...</td>\n",
              "      <td>...</td>\n",
              "      <td>...</td>\n",
              "      <td>...</td>\n",
              "      <td>...</td>\n",
              "      <td>...</td>\n",
              "      <td>...</td>\n",
              "      <td>...</td>\n",
              "      <td>...</td>\n",
              "      <td>...</td>\n",
              "      <td>...</td>\n",
              "      <td>...</td>\n",
              "      <td>...</td>\n",
              "      <td>...</td>\n",
              "      <td>...</td>\n",
              "      <td>...</td>\n",
              "      <td>...</td>\n",
              "      <td>...</td>\n",
              "    </tr>\n",
              "    <tr>\n",
              "      <th>73573</th>\n",
              "      <td>34</td>\n",
              "      <td>26</td>\n",
              "      <td>24</td>\n",
              "      <td>27</td>\n",
              "      <td>0</td>\n",
              "      <td>0</td>\n",
              "      <td>1</td>\n",
              "      <td>1</td>\n",
              "      <td>24</td>\n",
              "      <td>6</td>\n",
              "      <td>0</td>\n",
              "      <td>0</td>\n",
              "      <td>0</td>\n",
              "      <td>4</td>\n",
              "      <td>24</td>\n",
              "      <td>7</td>\n",
              "      <td>26</td>\n",
              "      <td>38</td>\n",
              "    </tr>\n",
              "    <tr>\n",
              "      <th>73574</th>\n",
              "      <td>26</td>\n",
              "      <td>24</td>\n",
              "      <td>27</td>\n",
              "      <td>24</td>\n",
              "      <td>0</td>\n",
              "      <td>1</td>\n",
              "      <td>1</td>\n",
              "      <td>1</td>\n",
              "      <td>24</td>\n",
              "      <td>6</td>\n",
              "      <td>0</td>\n",
              "      <td>0</td>\n",
              "      <td>0</td>\n",
              "      <td>4</td>\n",
              "      <td>40</td>\n",
              "      <td>13</td>\n",
              "      <td>27</td>\n",
              "      <td>26</td>\n",
              "    </tr>\n",
              "    <tr>\n",
              "      <th>73575</th>\n",
              "      <td>24</td>\n",
              "      <td>27</td>\n",
              "      <td>24</td>\n",
              "      <td>26</td>\n",
              "      <td>1</td>\n",
              "      <td>1</td>\n",
              "      <td>1</td>\n",
              "      <td>48</td>\n",
              "      <td>24</td>\n",
              "      <td>6</td>\n",
              "      <td>0</td>\n",
              "      <td>0</td>\n",
              "      <td>0</td>\n",
              "      <td>4</td>\n",
              "      <td>11</td>\n",
              "      <td>38</td>\n",
              "      <td>34</td>\n",
              "      <td>24</td>\n",
              "    </tr>\n",
              "    <tr>\n",
              "      <th>73576</th>\n",
              "      <td>27</td>\n",
              "      <td>24</td>\n",
              "      <td>26</td>\n",
              "      <td>11</td>\n",
              "      <td>1</td>\n",
              "      <td>1</td>\n",
              "      <td>48</td>\n",
              "      <td>48</td>\n",
              "      <td>24</td>\n",
              "      <td>6</td>\n",
              "      <td>0</td>\n",
              "      <td>0</td>\n",
              "      <td>0</td>\n",
              "      <td>4</td>\n",
              "      <td>13</td>\n",
              "      <td>26</td>\n",
              "      <td>34</td>\n",
              "      <td>10</td>\n",
              "    </tr>\n",
              "    <tr>\n",
              "      <th>73577</th>\n",
              "      <td>24</td>\n",
              "      <td>26</td>\n",
              "      <td>11</td>\n",
              "      <td>34</td>\n",
              "      <td>1</td>\n",
              "      <td>48</td>\n",
              "      <td>48</td>\n",
              "      <td>49</td>\n",
              "      <td>24</td>\n",
              "      <td>6</td>\n",
              "      <td>0</td>\n",
              "      <td>0</td>\n",
              "      <td>0</td>\n",
              "      <td>4</td>\n",
              "      <td>35</td>\n",
              "      <td>33</td>\n",
              "      <td>10</td>\n",
              "      <td>38</td>\n",
              "    </tr>\n",
              "  </tbody>\n",
              "</table>\n",
              "<p>73578 rows × 18 columns</p>\n",
              "</div>"
            ],
            "text/plain": [
              "       gnode_1  gnode_2  gnode_3  gnode_4  ...  neigh_1  neigh_2  neigh_3  neigh_4\n",
              "0           22       18        9       23  ...       21        6       13        9\n",
              "1           18        9       23       13  ...       11       23       24       40\n",
              "2            9       23       13       23  ...       21        6       13        9\n",
              "3           23       13       23       13  ...       11       23       24       40\n",
              "4           13       23       13       40  ...       25        6       24       23\n",
              "...        ...      ...      ...      ...  ...      ...      ...      ...      ...\n",
              "73573       34       26       24       27  ...       24        7       26       38\n",
              "73574       26       24       27       24  ...       40       13       27       26\n",
              "73575       24       27       24       26  ...       11       38       34       24\n",
              "73576       27       24       26       11  ...       13       26       34       10\n",
              "73577       24       26       11       34  ...       35       33       10       38\n",
              "\n",
              "[73578 rows x 18 columns]"
            ]
          },
          "metadata": {
            "tags": []
          },
          "execution_count": 78
        }
      ]
    },
    {
      "cell_type": "code",
      "metadata": {
        "colab": {
          "base_uri": "https://localhost:8080/",
          "height": 320
        },
        "id": "lY2O2NtCAIzW",
        "outputId": "0589f500-0c64-4b03-ff04-78ee4a2d6b98"
      },
      "source": [
        "X_train.describe()"
      ],
      "execution_count": 79,
      "outputs": [
        {
          "output_type": "execute_result",
          "data": {
            "text/html": [
              "<div>\n",
              "<style scoped>\n",
              "    .dataframe tbody tr th:only-of-type {\n",
              "        vertical-align: middle;\n",
              "    }\n",
              "\n",
              "    .dataframe tbody tr th {\n",
              "        vertical-align: top;\n",
              "    }\n",
              "\n",
              "    .dataframe thead th {\n",
              "        text-align: right;\n",
              "    }\n",
              "</style>\n",
              "<table border=\"1\" class=\"dataframe\">\n",
              "  <thead>\n",
              "    <tr style=\"text-align: right;\">\n",
              "      <th></th>\n",
              "      <th>gnode_1</th>\n",
              "      <th>gnode_2</th>\n",
              "      <th>gnode_3</th>\n",
              "      <th>gnode_4</th>\n",
              "      <th>time_1</th>\n",
              "      <th>time_2</th>\n",
              "      <th>time_3</th>\n",
              "      <th>time_4</th>\n",
              "      <th>home_gnb</th>\n",
              "      <th>early_morn</th>\n",
              "      <th>morning</th>\n",
              "      <th>noon</th>\n",
              "      <th>evening</th>\n",
              "      <th>night</th>\n",
              "      <th>neigh_1</th>\n",
              "      <th>neigh_2</th>\n",
              "      <th>neigh_3</th>\n",
              "      <th>neigh_4</th>\n",
              "    </tr>\n",
              "  </thead>\n",
              "  <tbody>\n",
              "    <tr>\n",
              "      <th>count</th>\n",
              "      <td>73578.000000</td>\n",
              "      <td>73578.000000</td>\n",
              "      <td>73578.000000</td>\n",
              "      <td>73578.000000</td>\n",
              "      <td>73578.000000</td>\n",
              "      <td>73578.000000</td>\n",
              "      <td>73578.000000</td>\n",
              "      <td>73578.000000</td>\n",
              "      <td>73578.000000</td>\n",
              "      <td>73578.000000</td>\n",
              "      <td>73578.0</td>\n",
              "      <td>73578.0</td>\n",
              "      <td>73578.0</td>\n",
              "      <td>73578.000000</td>\n",
              "      <td>73578.000000</td>\n",
              "      <td>73578.000000</td>\n",
              "      <td>73578.000000</td>\n",
              "      <td>73578.000000</td>\n",
              "    </tr>\n",
              "    <tr>\n",
              "      <th>mean</th>\n",
              "      <td>21.537389</td>\n",
              "      <td>21.673612</td>\n",
              "      <td>21.782122</td>\n",
              "      <td>21.617059</td>\n",
              "      <td>13.459200</td>\n",
              "      <td>17.666857</td>\n",
              "      <td>22.727242</td>\n",
              "      <td>28.350023</td>\n",
              "      <td>26.027454</td>\n",
              "      <td>8.907051</td>\n",
              "      <td>0.0</td>\n",
              "      <td>0.0</td>\n",
              "      <td>0.0</td>\n",
              "      <td>7.965384</td>\n",
              "      <td>20.745590</td>\n",
              "      <td>23.176683</td>\n",
              "      <td>23.585555</td>\n",
              "      <td>23.506986</td>\n",
              "    </tr>\n",
              "    <tr>\n",
              "      <th>std</th>\n",
              "      <td>11.155880</td>\n",
              "      <td>11.233333</td>\n",
              "      <td>11.148808</td>\n",
              "      <td>11.157474</td>\n",
              "      <td>20.962248</td>\n",
              "      <td>22.670749</td>\n",
              "      <td>23.634412</td>\n",
              "      <td>23.495408</td>\n",
              "      <td>10.535686</td>\n",
              "      <td>4.680869</td>\n",
              "      <td>0.0</td>\n",
              "      <td>0.0</td>\n",
              "      <td>0.0</td>\n",
              "      <td>4.563069</td>\n",
              "      <td>11.671747</td>\n",
              "      <td>11.603954</td>\n",
              "      <td>10.394676</td>\n",
              "      <td>11.988814</td>\n",
              "    </tr>\n",
              "    <tr>\n",
              "      <th>min</th>\n",
              "      <td>0.000000</td>\n",
              "      <td>0.000000</td>\n",
              "      <td>0.000000</td>\n",
              "      <td>0.000000</td>\n",
              "      <td>0.000000</td>\n",
              "      <td>0.000000</td>\n",
              "      <td>0.000000</td>\n",
              "      <td>0.000000</td>\n",
              "      <td>7.000000</td>\n",
              "      <td>1.000000</td>\n",
              "      <td>0.0</td>\n",
              "      <td>0.0</td>\n",
              "      <td>0.0</td>\n",
              "      <td>1.000000</td>\n",
              "      <td>0.000000</td>\n",
              "      <td>0.000000</td>\n",
              "      <td>0.000000</td>\n",
              "      <td>1.000000</td>\n",
              "    </tr>\n",
              "    <tr>\n",
              "      <th>25%</th>\n",
              "      <td>11.000000</td>\n",
              "      <td>11.000000</td>\n",
              "      <td>11.000000</td>\n",
              "      <td>11.000000</td>\n",
              "      <td>0.000000</td>\n",
              "      <td>1.000000</td>\n",
              "      <td>1.000000</td>\n",
              "      <td>2.000000</td>\n",
              "      <td>24.000000</td>\n",
              "      <td>6.000000</td>\n",
              "      <td>0.0</td>\n",
              "      <td>0.0</td>\n",
              "      <td>0.0</td>\n",
              "      <td>5.000000</td>\n",
              "      <td>11.000000</td>\n",
              "      <td>12.000000</td>\n",
              "      <td>15.000000</td>\n",
              "      <td>11.000000</td>\n",
              "    </tr>\n",
              "    <tr>\n",
              "      <th>50%</th>\n",
              "      <td>24.000000</td>\n",
              "      <td>24.000000</td>\n",
              "      <td>24.000000</td>\n",
              "      <td>24.000000</td>\n",
              "      <td>1.000000</td>\n",
              "      <td>2.000000</td>\n",
              "      <td>3.000000</td>\n",
              "      <td>48.000000</td>\n",
              "      <td>27.000000</td>\n",
              "      <td>8.000000</td>\n",
              "      <td>0.0</td>\n",
              "      <td>0.0</td>\n",
              "      <td>0.0</td>\n",
              "      <td>7.000000</td>\n",
              "      <td>18.000000</td>\n",
              "      <td>24.000000</td>\n",
              "      <td>26.000000</td>\n",
              "      <td>24.000000</td>\n",
              "    </tr>\n",
              "    <tr>\n",
              "      <th>75%</th>\n",
              "      <td>32.000000</td>\n",
              "      <td>33.000000</td>\n",
              "      <td>33.000000</td>\n",
              "      <td>33.000000</td>\n",
              "      <td>48.000000</td>\n",
              "      <td>48.000000</td>\n",
              "      <td>49.000000</td>\n",
              "      <td>49.000000</td>\n",
              "      <td>37.000000</td>\n",
              "      <td>11.000000</td>\n",
              "      <td>0.0</td>\n",
              "      <td>0.0</td>\n",
              "      <td>0.0</td>\n",
              "      <td>10.000000</td>\n",
              "      <td>34.000000</td>\n",
              "      <td>33.000000</td>\n",
              "      <td>34.000000</td>\n",
              "      <td>34.000000</td>\n",
              "    </tr>\n",
              "    <tr>\n",
              "      <th>max</th>\n",
              "      <td>40.000000</td>\n",
              "      <td>40.000000</td>\n",
              "      <td>40.000000</td>\n",
              "      <td>40.000000</td>\n",
              "      <td>54.000000</td>\n",
              "      <td>54.000000</td>\n",
              "      <td>54.000000</td>\n",
              "      <td>54.000000</td>\n",
              "      <td>40.000000</td>\n",
              "      <td>40.000000</td>\n",
              "      <td>0.0</td>\n",
              "      <td>0.0</td>\n",
              "      <td>0.0</td>\n",
              "      <td>35.000000</td>\n",
              "      <td>40.000000</td>\n",
              "      <td>39.000000</td>\n",
              "      <td>40.000000</td>\n",
              "      <td>40.000000</td>\n",
              "    </tr>\n",
              "  </tbody>\n",
              "</table>\n",
              "</div>"
            ],
            "text/plain": [
              "            gnode_1       gnode_2  ...       neigh_3       neigh_4\n",
              "count  73578.000000  73578.000000  ...  73578.000000  73578.000000\n",
              "mean      21.537389     21.673612  ...     23.585555     23.506986\n",
              "std       11.155880     11.233333  ...     10.394676     11.988814\n",
              "min        0.000000      0.000000  ...      0.000000      1.000000\n",
              "25%       11.000000     11.000000  ...     15.000000     11.000000\n",
              "50%       24.000000     24.000000  ...     26.000000     24.000000\n",
              "75%       32.000000     33.000000  ...     34.000000     34.000000\n",
              "max       40.000000     40.000000  ...     40.000000     40.000000\n",
              "\n",
              "[8 rows x 18 columns]"
            ]
          },
          "metadata": {
            "tags": []
          },
          "execution_count": 79
        }
      ]
    },
    {
      "cell_type": "code",
      "metadata": {
        "colab": {
          "base_uri": "https://localhost:8080/"
        },
        "id": "IUAH5KirAIzX",
        "outputId": "74814db2-41c9-489c-c349-50c80688fac6"
      },
      "source": [
        "X_train['early_morn'].nunique()"
      ],
      "execution_count": 80,
      "outputs": [
        {
          "output_type": "execute_result",
          "data": {
            "text/plain": [
              "36"
            ]
          },
          "metadata": {
            "tags": []
          },
          "execution_count": 80
        }
      ]
    },
    {
      "cell_type": "markdown",
      "metadata": {
        "id": "VWDo1eqNR6IA"
      },
      "source": [
        "# Function to calculate the Accuracy and the Proba-Accuracy"
      ]
    },
    {
      "cell_type": "code",
      "metadata": {
        "id": "UUaA4XQQAIzf"
      },
      "source": [
        "import numpy as np\n",
        "\n",
        "def compute_accuracy(y, y_pred):\n",
        "    y_pred = pd.DataFrame(y_pred, columns=['target_gnb', 'target_trans_slot'])\n",
        "    gnb_pred_acc = (sum(y.target_gnb.values == y_pred.target_gnb.values) / len(y)) * 100\n",
        "    timeslot_pred_acc = (sum(y.target_trans_slot.values == y_pred.target_trans_slot.values) / len(y)) * 100\n",
        "    pred_accuracy = (sum((y.target_gnb.values == y_pred.target_gnb.values) &\n",
        "                            (y.target_trans_slot.values == y_pred.target_trans_slot.values)) / len(y)) * 100\n",
        "    return {\n",
        "        \"predictionAccuracy\": pred_accuracy,\n",
        "        \"predictionTimeSlotAccuracy\": timeslot_pred_acc,\n",
        "        \"predictionGnodeBAccuracy\": gnb_pred_acc\n",
        "    }\n",
        "\n",
        "def topk_accuracy(actual_labels, pred_gnb, pred_time, k=3):\n",
        "    actual_labels_size = len(actual_labels['target_gnb'])\n",
        "    predictions_size = len(pred_gnb)\n",
        "    if actual_labels_size != predictions_size:\n",
        "        raise ValueError(\"actual and predicted should be of same size\")\n",
        "    results = np.zeros(actual_labels_size)\n",
        "    for i in range(actual_labels_size):\n",
        "        if ((actual_labels['target_gnb'][i] in set(pred_gnb[i][:k])) & (actual_labels['target_trans_slot'][i] in set(pred_time[i][:k]))):\n",
        "            results[i] = 1\n",
        "    result = results.sum()/actual_labels_size\n",
        "    print(f\"predictionAccuracy with first {k} results: {result}\")\n",
        "    return result"
      ],
      "execution_count": 81,
      "outputs": []
    },
    {
      "cell_type": "markdown",
      "metadata": {
        "id": "uVlyGCOVAIzX"
      },
      "source": [
        "## Model training\n",
        "\n",
        "> This is the Original Model\n",
        "\n",
        "\n"
      ]
    },
    {
      "cell_type": "code",
      "metadata": {
        "colab": {
          "base_uri": "https://localhost:8080/"
        },
        "id": "3ZL07c7uAIzX",
        "outputId": "0face4d6-de58-403e-a379-7fae2ac2892f"
      },
      "source": [
        "from sklearn.ensemble import RandomForestClassifier\n",
        "\n",
        "model = RandomForestClassifier(n_estimators=30,\n",
        "                               min_samples_leaf=2,\n",
        "                               min_samples_split=2,\n",
        "                               max_depth=15,\n",
        "                               oob_score=True,\n",
        "                               random_state=44)\n",
        "model.fit(X_train, y_train)"
      ],
      "execution_count": 158,
      "outputs": [
        {
          "output_type": "execute_result",
          "data": {
            "text/plain": [
              "RandomForestClassifier(max_depth=15, min_samples_leaf=2, n_estimators=30,\n",
              "                       oob_score=True, random_state=44)"
            ]
          },
          "metadata": {
            "tags": []
          },
          "execution_count": 158
        }
      ]
    },
    {
      "cell_type": "code",
      "metadata": {
        "colab": {
          "base_uri": "https://localhost:8080/"
        },
        "id": "eqjCyrEMS1nr",
        "outputId": "ef3c9626-d32f-488b-bd90-965d55a2d22b"
      },
      "source": [
        "y_pred = model.predict(X_train)\n",
        "accuracy = compute_accuracy(y_train, y_pred)\n",
        "accuracy"
      ],
      "execution_count": 159,
      "outputs": [
        {
          "output_type": "execute_result",
          "data": {
            "text/plain": [
              "{'predictionAccuracy': 69.45962108238875,\n",
              " 'predictionGnodeBAccuracy': 81.11391992171573,\n",
              " 'predictionTimeSlotAccuracy': 82.74076490255239}"
            ]
          },
          "metadata": {
            "tags": []
          },
          "execution_count": 159
        }
      ]
    },
    {
      "cell_type": "code",
      "metadata": {
        "colab": {
          "base_uri": "https://localhost:8080/"
        },
        "id": "_scqOlBMpq21",
        "outputId": "39a42365-2966-4fd2-c67d-9c0ce1344ef4"
      },
      "source": [
        "print(\"X_train:\", X_train.shape)\n",
        "print(\"y_train:\", y_train.shape)\n",
        "#print(\"X_test:\", X_test.shape)\n",
        "#print(\"y_test:\", y_test.shape)"
      ],
      "execution_count": 65,
      "outputs": [
        {
          "output_type": "stream",
          "text": [
            "X_train: (73578, 18)\n",
            "y_train: (73578, 2)\n"
          ],
          "name": "stdout"
        }
      ]
    },
    {
      "cell_type": "markdown",
      "metadata": {
        "id": "5kGSqdM6AIzY"
      },
      "source": [
        "# Evaluating 5 classifiers with multiple output\n",
        "||||||||||||||||||||||||||||||||||||||||||||||||||||||||||||||||||||||||||||||||||||||||||||||||||||||"
      ]
    },
    {
      "cell_type": "code",
      "metadata": {
        "id": "ZzoGa0CaAIzZ"
      },
      "source": [
        "from sklearn.tree import DecisionTreeClassifier\n",
        "from sklearn.ensemble import ExtraTreesClassifier\n",
        "from sklearn.neighbors import KNeighborsClassifier\n",
        "from sklearn.neighbors import RadiusNeighborsClassifier\n",
        "from sklearn.ensemble import RandomForestClassifier"
      ],
      "execution_count": 75,
      "outputs": []
    },
    {
      "cell_type": "markdown",
      "metadata": {
        "id": "yhAemlEdUNZ_"
      },
      "source": [
        "DecisionTreeClassifier"
      ]
    },
    {
      "cell_type": "code",
      "metadata": {
        "id": "a3XwmNkgD0ST",
        "colab": {
          "base_uri": "https://localhost:8080/"
        },
        "outputId": "a1948012-72ec-481c-d80f-60ecb9c85195"
      },
      "source": [
        "model = DecisionTreeClassifier(random_state=42)\n",
        "model.fit(X_train, y_train)\n",
        "y_pred = model.predict(X_train)\n",
        "accuracy = compute_accuracy(y_train, y_pred)\n",
        "accuracy"
      ],
      "execution_count": 70,
      "outputs": [
        {
          "output_type": "execute_result",
          "data": {
            "text/plain": [
              "{'predictionAccuracy': 95.0501508603115,\n",
              " 'predictionGnodeBAccuracy': 97.08064910707004,\n",
              " 'predictionTimeSlotAccuracy': 97.325287450053}"
            ]
          },
          "metadata": {
            "tags": []
          },
          "execution_count": 70
        }
      ]
    },
    {
      "cell_type": "markdown",
      "metadata": {
        "id": "e_bq_1zrUPDy"
      },
      "source": [
        "ExtraTreeClassifier"
      ]
    },
    {
      "cell_type": "code",
      "metadata": {
        "colab": {
          "base_uri": "https://localhost:8080/"
        },
        "id": "mhyjm6joUR7h",
        "outputId": "c9c5c2f2-43fb-4ab1-9f88-7e2c66eef4f6"
      },
      "source": [
        "model = ExtraTreeClassifier(random_state=42)\n",
        "model.fit(X_train, y_train)\n",
        "y_pred = model.predict(X_train)\n",
        "accuracy = compute_accuracy(y_train, y_pred)\n",
        "accuracy\n"
      ],
      "execution_count": 74,
      "outputs": [
        {
          "output_type": "execute_result",
          "data": {
            "text/plain": [
              "{'predictionAccuracy': 95.0501508603115,\n",
              " 'predictionGnodeBAccuracy': 97.08064910707004,\n",
              " 'predictionTimeSlotAccuracy': 97.325287450053}"
            ]
          },
          "metadata": {
            "tags": []
          },
          "execution_count": 74
        }
      ]
    },
    {
      "cell_type": "markdown",
      "metadata": {
        "id": "-ourTgokVBwe"
      },
      "source": [
        "KNeighborsClassifier"
      ]
    },
    {
      "cell_type": "code",
      "metadata": {
        "colab": {
          "base_uri": "https://localhost:8080/"
        },
        "id": "E4hYMggxUSBS",
        "outputId": "884dd63a-1134-4a98-b9a3-b14377d8555f"
      },
      "source": [
        "model = KNeighborsClassifier()\n",
        "model.fit(X_train, y_train)\n",
        "y_pred = model.predict(X_train)\n",
        "accuracy = compute_accuracy(y_train, y_pred)\n",
        "accuracy"
      ],
      "execution_count": 78,
      "outputs": [
        {
          "output_type": "execute_result",
          "data": {
            "text/plain": [
              "{'predictionAccuracy': 67.06080621925032,\n",
              " 'predictionGnodeBAccuracy': 78.59958139661312,\n",
              " 'predictionTimeSlotAccuracy': 80.45339639566174}"
            ]
          },
          "metadata": {
            "tags": []
          },
          "execution_count": 78
        }
      ]
    },
    {
      "cell_type": "markdown",
      "metadata": {
        "id": "crEVbI28VEsK"
      },
      "source": [
        "RadiusNeighborsClassifier"
      ]
    },
    {
      "cell_type": "code",
      "metadata": {
        "colab": {
          "base_uri": "https://localhost:8080/"
        },
        "id": "NI8XXCY4VHrT",
        "outputId": "9680196f-aaf4-41b7-897b-e48d277451f0"
      },
      "source": [
        "model = RadiusNeighborsClassifier()\n",
        "model.fit(X_train, y_train)\n",
        "y_pred = model.predict(X_train)\n",
        "accuracy = compute_accuracy(y_train, y_pred)\n",
        "accuracy"
      ],
      "execution_count": 79,
      "outputs": [
        {
          "output_type": "execute_result",
          "data": {
            "text/plain": [
              "{'predictionAccuracy': 87.94204789475116,\n",
              " 'predictionGnodeBAccuracy': 92.3931066351355,\n",
              " 'predictionTimeSlotAccuracy': 93.64619859197043}"
            ]
          },
          "metadata": {
            "tags": []
          },
          "execution_count": 79
        }
      ]
    },
    {
      "cell_type": "markdown",
      "metadata": {
        "id": "s21t9vTlVK4a"
      },
      "source": [
        "RandomForestClassifier"
      ]
    },
    {
      "cell_type": "code",
      "metadata": {
        "colab": {
          "base_uri": "https://localhost:8080/"
        },
        "id": "_StpyYVoVHuC",
        "outputId": "217d8882-aef0-4e0c-f631-d0eddb492ec7"
      },
      "source": [
        "model = RandomForestClassifier(random_state=42)\n",
        "model.fit(X_train, y_train)\n",
        "y_pred = model.predict(X_train)\n",
        "accuracy = compute_accuracy(y_train, y_pred)\n",
        "accuracy"
      ],
      "execution_count": 80,
      "outputs": [
        {
          "output_type": "execute_result",
          "data": {
            "text/plain": [
              "{'predictionAccuracy': 95.27032536899617,\n",
              " 'predictionGnodeBAccuracy': 97.07929000516458,\n",
              " 'predictionTimeSlotAccuracy': 97.32121014433662}"
            ]
          },
          "metadata": {
            "tags": []
          },
          "execution_count": 80
        }
      ]
    },
    {
      "cell_type": "markdown",
      "metadata": {
        "id": "yLOY5v_6WRNU"
      },
      "source": [
        "The best option is the model : RandomForestClassifier as the original model but with different parameters\n",
        "\n",
        "Let's evaluate with test"
      ]
    },
    {
      "cell_type": "code",
      "metadata": {
        "colab": {
          "base_uri": "https://localhost:8080/"
        },
        "id": "i86flzUaAIzb",
        "outputId": "301d926e-e0b2-4dd1-8cc0-7017eaaf57a6"
      },
      "source": [
        "model"
      ],
      "execution_count": 81,
      "outputs": [
        {
          "output_type": "execute_result",
          "data": {
            "text/plain": [
              "RandomForestClassifier(bootstrap=True, ccp_alpha=0.0, class_weight=None,\n",
              "                       criterion='gini', max_depth=None, max_features='auto',\n",
              "                       max_leaf_nodes=None, max_samples=None,\n",
              "                       min_impurity_decrease=0.0, min_impurity_split=None,\n",
              "                       min_samples_leaf=1, min_samples_split=2,\n",
              "                       min_weight_fraction_leaf=0.0, n_estimators=100,\n",
              "                       n_jobs=None, oob_score=False, random_state=42, verbose=0,\n",
              "                       warm_start=False)"
            ]
          },
          "metadata": {
            "tags": []
          },
          "execution_count": 81
        }
      ]
    },
    {
      "cell_type": "markdown",
      "metadata": {
        "id": "2tgrpfDRAIzd"
      },
      "source": [
        "# TPot\n",
        "||||||||||||||||||||||||||||||||||||||||||||||||||||||||||||||||||||||||||||||||||||||||||||"
      ]
    },
    {
      "cell_type": "code",
      "metadata": {
        "colab": {
          "base_uri": "https://localhost:8080/",
          "height": 206
        },
        "id": "JARxv9acXQ7w",
        "outputId": "29b372c9-b730-4402-a04f-ca2ab55f491f"
      },
      "source": [
        "X_train.head(5)"
      ],
      "execution_count": 43,
      "outputs": [
        {
          "output_type": "execute_result",
          "data": {
            "text/html": [
              "<div>\n",
              "<style scoped>\n",
              "    .dataframe tbody tr th:only-of-type {\n",
              "        vertical-align: middle;\n",
              "    }\n",
              "\n",
              "    .dataframe tbody tr th {\n",
              "        vertical-align: top;\n",
              "    }\n",
              "\n",
              "    .dataframe thead th {\n",
              "        text-align: right;\n",
              "    }\n",
              "</style>\n",
              "<table border=\"1\" class=\"dataframe\">\n",
              "  <thead>\n",
              "    <tr style=\"text-align: right;\">\n",
              "      <th></th>\n",
              "      <th>gnode_1</th>\n",
              "      <th>gnode_2</th>\n",
              "      <th>gnode_3</th>\n",
              "      <th>gnode_4</th>\n",
              "      <th>time_1</th>\n",
              "      <th>time_2</th>\n",
              "      <th>time_3</th>\n",
              "      <th>time_4</th>\n",
              "      <th>home_gnb</th>\n",
              "      <th>early_morn</th>\n",
              "      <th>morning</th>\n",
              "      <th>noon</th>\n",
              "      <th>evening</th>\n",
              "      <th>night</th>\n",
              "      <th>neigh_1</th>\n",
              "      <th>neigh_2</th>\n",
              "      <th>neigh_3</th>\n",
              "      <th>neigh_4</th>\n",
              "    </tr>\n",
              "  </thead>\n",
              "  <tbody>\n",
              "    <tr>\n",
              "      <th>47360</th>\n",
              "      <td>13</td>\n",
              "      <td>23</td>\n",
              "      <td>13</td>\n",
              "      <td>12</td>\n",
              "      <td>2</td>\n",
              "      <td>2</td>\n",
              "      <td>2</td>\n",
              "      <td>48</td>\n",
              "      <td>13</td>\n",
              "      <td>9</td>\n",
              "      <td>0</td>\n",
              "      <td>0</td>\n",
              "      <td>0</td>\n",
              "      <td>4</td>\n",
              "      <td>8</td>\n",
              "      <td>10</td>\n",
              "      <td>9</td>\n",
              "      <td>4</td>\n",
              "    </tr>\n",
              "    <tr>\n",
              "      <th>54857</th>\n",
              "      <td>11</td>\n",
              "      <td>26</td>\n",
              "      <td>34</td>\n",
              "      <td>10</td>\n",
              "      <td>1</td>\n",
              "      <td>1</td>\n",
              "      <td>48</td>\n",
              "      <td>48</td>\n",
              "      <td>26</td>\n",
              "      <td>4</td>\n",
              "      <td>0</td>\n",
              "      <td>0</td>\n",
              "      <td>0</td>\n",
              "      <td>3</td>\n",
              "      <td>12</td>\n",
              "      <td>33</td>\n",
              "      <td>34</td>\n",
              "      <td>11</td>\n",
              "    </tr>\n",
              "    <tr>\n",
              "      <th>15431</th>\n",
              "      <td>40</td>\n",
              "      <td>24</td>\n",
              "      <td>13</td>\n",
              "      <td>24</td>\n",
              "      <td>0</td>\n",
              "      <td>1</td>\n",
              "      <td>1</td>\n",
              "      <td>1</td>\n",
              "      <td>13</td>\n",
              "      <td>6</td>\n",
              "      <td>0</td>\n",
              "      <td>0</td>\n",
              "      <td>0</td>\n",
              "      <td>5</td>\n",
              "      <td>40</td>\n",
              "      <td>13</td>\n",
              "      <td>27</td>\n",
              "      <td>26</td>\n",
              "    </tr>\n",
              "    <tr>\n",
              "      <th>31328</th>\n",
              "      <td>9</td>\n",
              "      <td>12</td>\n",
              "      <td>9</td>\n",
              "      <td>12</td>\n",
              "      <td>50</td>\n",
              "      <td>50</td>\n",
              "      <td>50</td>\n",
              "      <td>50</td>\n",
              "      <td>38</td>\n",
              "      <td>9</td>\n",
              "      <td>0</td>\n",
              "      <td>0</td>\n",
              "      <td>0</td>\n",
              "      <td>22</td>\n",
              "      <td>8</td>\n",
              "      <td>10</td>\n",
              "      <td>9</td>\n",
              "      <td>4</td>\n",
              "    </tr>\n",
              "    <tr>\n",
              "      <th>14067</th>\n",
              "      <td>24</td>\n",
              "      <td>13</td>\n",
              "      <td>11</td>\n",
              "      <td>10</td>\n",
              "      <td>1</td>\n",
              "      <td>48</td>\n",
              "      <td>48</td>\n",
              "      <td>48</td>\n",
              "      <td>24</td>\n",
              "      <td>4</td>\n",
              "      <td>0</td>\n",
              "      <td>0</td>\n",
              "      <td>0</td>\n",
              "      <td>9</td>\n",
              "      <td>12</td>\n",
              "      <td>33</td>\n",
              "      <td>34</td>\n",
              "      <td>11</td>\n",
              "    </tr>\n",
              "  </tbody>\n",
              "</table>\n",
              "</div>"
            ],
            "text/plain": [
              "       gnode_1  gnode_2  gnode_3  gnode_4  ...  neigh_1  neigh_2  neigh_3  neigh_4\n",
              "47360       13       23       13       12  ...        8       10        9        4\n",
              "54857       11       26       34       10  ...       12       33       34       11\n",
              "15431       40       24       13       24  ...       40       13       27       26\n",
              "31328        9       12        9       12  ...        8       10        9        4\n",
              "14067       24       13       11       10  ...       12       33       34       11\n",
              "\n",
              "[5 rows x 18 columns]"
            ]
          },
          "metadata": {
            "tags": []
          },
          "execution_count": 43
        }
      ]
    },
    {
      "cell_type": "code",
      "metadata": {
        "colab": {
          "base_uri": "https://localhost:8080/",
          "height": 206
        },
        "id": "hiWB0CAJXWGL",
        "outputId": "00bf6851-219c-4521-9328-12385be2a6a2"
      },
      "source": [
        "y_train.head(5)"
      ],
      "execution_count": 44,
      "outputs": [
        {
          "output_type": "execute_result",
          "data": {
            "text/html": [
              "<div>\n",
              "<style scoped>\n",
              "    .dataframe tbody tr th:only-of-type {\n",
              "        vertical-align: middle;\n",
              "    }\n",
              "\n",
              "    .dataframe tbody tr th {\n",
              "        vertical-align: top;\n",
              "    }\n",
              "\n",
              "    .dataframe thead th {\n",
              "        text-align: right;\n",
              "    }\n",
              "</style>\n",
              "<table border=\"1\" class=\"dataframe\">\n",
              "  <thead>\n",
              "    <tr style=\"text-align: right;\">\n",
              "      <th></th>\n",
              "      <th>target_gnb</th>\n",
              "      <th>target_trans_slot</th>\n",
              "    </tr>\n",
              "  </thead>\n",
              "  <tbody>\n",
              "    <tr>\n",
              "      <th>47360</th>\n",
              "      <td>8</td>\n",
              "      <td>15</td>\n",
              "    </tr>\n",
              "    <tr>\n",
              "      <th>54857</th>\n",
              "      <td>12</td>\n",
              "      <td>15</td>\n",
              "    </tr>\n",
              "    <tr>\n",
              "      <th>15431</th>\n",
              "      <td>13</td>\n",
              "      <td>1</td>\n",
              "    </tr>\n",
              "    <tr>\n",
              "      <th>31328</th>\n",
              "      <td>9</td>\n",
              "      <td>1</td>\n",
              "    </tr>\n",
              "    <tr>\n",
              "      <th>14067</th>\n",
              "      <td>34</td>\n",
              "      <td>15</td>\n",
              "    </tr>\n",
              "  </tbody>\n",
              "</table>\n",
              "</div>"
            ],
            "text/plain": [
              "       target_gnb  target_trans_slot\n",
              "47360           8                 15\n",
              "54857          12                 15\n",
              "15431          13                  1\n",
              "31328           9                  1\n",
              "14067          34                 15"
            ]
          },
          "metadata": {
            "tags": []
          },
          "execution_count": 44
        }
      ]
    },
    {
      "cell_type": "code",
      "metadata": {
        "id": "nGVxHfrVAIze",
        "colab": {
          "base_uri": "https://localhost:8080/"
        },
        "outputId": "cf2a1058-0755-4fc8-fa3b-68968348b7c6"
      },
      "source": [
        "tpot = TPOTClassifier(generations=1, verbosity=1) #Iteration 20 times\n",
        "\n",
        "tpot.fit(X_train_filtered, y_train_filtered)\n",
        "\n",
        "#print(tpot.score(X_test, y_test))\n"
      ],
      "execution_count": 81,
      "outputs": [
        {
          "output_type": "stream",
          "text": [
            "/usr/local/lib/python3.7/dist-packages/sklearn/utils/validation.py:760: DataConversionWarning: A column-vector y was passed when a 1d array was expected. Please change the shape of y to (n_samples, ), for example using ravel().\n",
            "  y = column_or_1d(y, warn=True)\n",
            "/usr/local/lib/python3.7/dist-packages/tpot/tpot.py:68: SettingWithCopyWarning: \n",
            "A value is trying to be set on a copy of a slice from a DataFrame.\n",
            "Try using .loc[row_indexer,col_indexer] = value instead\n",
            "\n",
            "See the caveats in the documentation: https://pandas.pydata.org/pandas-docs/stable/user_guide/indexing.html#returning-a-view-versus-a-copy\n",
            "  _safe_indexing(target, unique_target_idx)\n",
            "/usr/local/lib/python3.7/dist-packages/pandas/core/frame.py:3051: SettingWithCopyWarning: \n",
            "A value is trying to be set on a copy of a slice from a DataFrame\n",
            "\n",
            "See the caveats in the documentation: https://pandas.pydata.org/pandas-docs/stable/user_guide/indexing.html#returning-a-view-versus-a-copy\n",
            "  self.iloc._setitem_with_indexer(key, value)\n",
            "/usr/local/lib/python3.7/dist-packages/pandas/core/frame.py:3036: SettingWithCopyWarning: \n",
            "A value is trying to be set on a copy of a slice from a DataFrame\n",
            "\n",
            "See the caveats in the documentation: https://pandas.pydata.org/pandas-docs/stable/user_guide/indexing.html#returning-a-view-versus-a-copy\n",
            "  return self._setitem_slice(indexer, value)\n"
          ],
          "name": "stderr"
        },
        {
          "output_type": "stream",
          "text": [
            "\n",
            "\n",
            "TPOT closed during evaluation in one generation.\n",
            "WARNING: TPOT may not provide a good pipeline if TPOT is stopped/interrupted in a early generation.\n",
            "\n",
            "\n",
            "TPOT closed prematurely. Will use the current best pipeline.\n",
            "Best pipeline: RandomForestClassifier(input_matrix, bootstrap=False, criterion=entropy, max_features=0.7500000000000001, min_samples_leaf=2, min_samples_split=9, n_estimators=100)\n"
          ],
          "name": "stdout"
        },
        {
          "output_type": "execute_result",
          "data": {
            "text/plain": [
              "TPOTClassifier(config_dict=None, crossover_rate=0.1, cv=5,\n",
              "               disable_update_check=False, early_stop=None, generations=1,\n",
              "               log_file=None, max_eval_time_mins=5, max_time_mins=None,\n",
              "               memory=None, mutation_rate=0.9, n_jobs=1, offspring_size=None,\n",
              "               periodic_checkpoint_folder=None, population_size=100,\n",
              "               random_state=None, scoring=None, subsample=1.0, template=None,\n",
              "               use_dask=False, verbosity=1, warm_start=False)"
            ]
          },
          "metadata": {
            "tags": []
          },
          "execution_count": 81
        }
      ]
    },
    {
      "cell_type": "code",
      "metadata": {
        "colab": {
          "base_uri": "https://localhost:8080/"
        },
        "id": "QRh85jeHsAFn",
        "outputId": "c5ec962b-6979-45e4-c981-764ae5dde6bd"
      },
      "source": [
        "from sklearn.ensemble import RandomForestClassifier\n",
        "\n",
        "model = RandomForestClassifier(n_estimators=100,\n",
        "                               min_samples_leaf=1,\n",
        "                               min_samples_split=2,\n",
        "                               max_depth=None,\n",
        "                               oob_score=True,\n",
        "                               random_state=42)\n",
        "model.fit(X_train, y_train)\n",
        "y_pred = model.predict(X_train)\n",
        "accuracy = compute_accuracy(y_train, y_pred)\n",
        "accuracy"
      ],
      "execution_count": 82,
      "outputs": [
        {
          "output_type": "execute_result",
          "data": {
            "text/plain": [
              "{'predictionAccuracy': 95.27032536899617,\n",
              " 'predictionGnodeBAccuracy': 97.07929000516458,\n",
              " 'predictionTimeSlotAccuracy': 97.32121014433662}"
            ]
          },
          "metadata": {
            "tags": []
          },
          "execution_count": 82
        }
      ]
    },
    {
      "cell_type": "markdown",
      "metadata": {
        "id": "lscX9d1Ws6WW"
      },
      "source": [
        "So far the best model is :\n",
        "\n",
        "\n",
        "> RandomForestClassifier(bootstrap=True, ccp_alpha=0.0, class_weight=None,\n",
        "                       criterion='gini', max_depth=None, max_features='auto',\n",
        "                       max_leaf_nodes=None, max_samples=None,\n",
        "                       min_impurity_decrease=0.0, min_impurity_split=None,\n",
        "                       min_samples_leaf=1, min_samples_split=2,\n",
        "                       min_weight_fraction_leaf=0.0, n_estimators=100,\n",
        "                       n_jobs=None, oob_score=True, random_state=42, verbose=0,\n",
        "                       warm_start=False)\n",
        "\n",
        "\n",
        "1.   'predictionAccuracy': 95.99911657775814\n",
        "2.   'predictionGnodeBAccuracy': 97.49413883320308\n",
        "3.   'predictionTimeSlotAccuracy': 97.73538106078624\n",
        "\n",
        "\n",
        "\n",
        "\n",
        "\n"
      ]
    },
    {
      "cell_type": "markdown",
      "metadata": {
        "id": "1Nr4rFxLoJc8"
      },
      "source": [
        "# MultiOutputClassifier - KNeighborsClassifier\n",
        "\n",
        "```\n",
        "# This is formatted as code\n",
        "```\n",
        "\n"
      ]
    },
    {
      "cell_type": "code",
      "metadata": {
        "id": "Yk7UH1u4oN8I"
      },
      "source": [
        "import numpy as np\n",
        "from sklearn.datasets import make_multilabel_classification\n",
        "from sklearn.multioutput import MultiOutputClassifier\n",
        "from sklearn.neighbors import KNeighborsClassifier\n",
        "\n",
        "clf = MultiOutputClassifier(KNeighborsClassifier()).fit(X_train, y_train)\n"
      ],
      "execution_count": 94,
      "outputs": []
    },
    {
      "cell_type": "code",
      "metadata": {
        "id": "XFsiRxeSqktX"
      },
      "source": [
        "y_pred = clf.predict(X_train)"
      ],
      "execution_count": 95,
      "outputs": []
    },
    {
      "cell_type": "code",
      "metadata": {
        "colab": {
          "base_uri": "https://localhost:8080/"
        },
        "id": "kf-t2bhfq37U",
        "outputId": "a324cdc3-dd03-4f42-8d53-29845c9c9b82"
      },
      "source": [
        "accuracy = compute_accuracy(y_train, y_pred)\n",
        "accuracy"
      ],
      "execution_count": 96,
      "outputs": [
        {
          "output_type": "execute_result",
          "data": {
            "text/plain": [
              "{'predictionAccuracy': 66.13434813631885,\n",
              " 'predictionGnodeBAccuracy': 77.79722061771601,\n",
              " 'predictionTimeSlotAccuracy': 79.98369066630424}"
            ]
          },
          "metadata": {
            "tags": []
          },
          "execution_count": 96
        }
      ]
    },
    {
      "cell_type": "markdown",
      "metadata": {
        "id": "NvDUD6E3sAxu"
      },
      "source": [
        "# GridSearchCV with MultiOutputClassifier\n"
      ]
    },
    {
      "cell_type": "code",
      "metadata": {
        "colab": {
          "base_uri": "https://localhost:8080/"
        },
        "id": "O6fpLUPwr_6S",
        "outputId": "57ed101a-1869-487e-99a6-b5647d03cd36"
      },
      "source": [
        "from sklearn.multioutput import MultiOutputClassifier\n",
        "from sklearn.model_selection import GridSearchCV\n",
        "from sklearn.pipeline import Pipeline\n",
        "from sklearn.svm import SVR\n",
        "from sklearn.preprocessing import StandardScaler\n",
        "from sklearn.ensemble import RandomForestClassifier\n",
        "from sklearn.metrics import fbeta_score, make_scorer\n",
        "\n",
        "\n",
        "param_grid = {\n",
        "    'estimator__min_samples_leaf': [1, 4],\n",
        "    'estimator__min_samples_split': [ 2, 4],\n",
        "    'estimator__n_estimators': [100],\n",
        "    'estimator__oob_score': [True, False]\n",
        "}\n",
        "\n",
        "gb = RandomForestClassifier()\n",
        "gs = GridSearchCV(MultiOutputClassifier(gb), param_grid = param_grid, \n",
        "                          cv = 3, n_jobs = -1, verbose = 20)\n",
        "gs.fit(X_train,y_train)\n",
        "\n"
      ],
      "execution_count": 84,
      "outputs": [
        {
          "output_type": "stream",
          "text": [
            "Fitting 3 folds for each of 8 candidates, totalling 24 fits\n"
          ],
          "name": "stdout"
        },
        {
          "output_type": "stream",
          "text": [
            "[Parallel(n_jobs=-1)]: Using backend LokyBackend with 2 concurrent workers.\n",
            "[Parallel(n_jobs=-1)]: Done   1 tasks      | elapsed:   34.3s\n",
            "[Parallel(n_jobs=-1)]: Done   2 tasks      | elapsed:   34.4s\n",
            "[Parallel(n_jobs=-1)]: Done   3 tasks      | elapsed:  1.1min\n",
            "[Parallel(n_jobs=-1)]: Done   4 tasks      | elapsed:  1.1min\n",
            "[Parallel(n_jobs=-1)]: Done   5 tasks      | elapsed:  1.5min\n",
            "[Parallel(n_jobs=-1)]: Done   6 tasks      | elapsed:  1.6min\n",
            "[Parallel(n_jobs=-1)]: Done   7 tasks      | elapsed:  2.0min\n",
            "[Parallel(n_jobs=-1)]: Done   8 tasks      | elapsed:  2.1min\n",
            "[Parallel(n_jobs=-1)]: Done   9 tasks      | elapsed:  2.5min\n",
            "[Parallel(n_jobs=-1)]: Done  10 tasks      | elapsed:  2.5min\n",
            "[Parallel(n_jobs=-1)]: Done  11 tasks      | elapsed:  3.0min\n",
            "[Parallel(n_jobs=-1)]: Done  12 tasks      | elapsed:  3.0min\n",
            "[Parallel(n_jobs=-1)]: Done  13 tasks      | elapsed:  3.4min\n",
            "[Parallel(n_jobs=-1)]: Done  14 tasks      | elapsed:  3.4min\n",
            "[Parallel(n_jobs=-1)]: Done  15 tasks      | elapsed:  3.8min\n",
            "[Parallel(n_jobs=-1)]: Done  16 tasks      | elapsed:  3.9min\n",
            "[Parallel(n_jobs=-1)]: Done  17 tasks      | elapsed:  4.2min\n",
            "[Parallel(n_jobs=-1)]: Done  18 tasks      | elapsed:  4.2min\n",
            "[Parallel(n_jobs=-1)]: Done  19 tasks      | elapsed:  4.6min\n",
            "[Parallel(n_jobs=-1)]: Done  20 tasks      | elapsed:  4.7min\n",
            "[Parallel(n_jobs=-1)]: Done  21 tasks      | elapsed:  5.1min\n",
            "[Parallel(n_jobs=-1)]: Done  24 out of  24 | elapsed:  5.4min finished\n"
          ],
          "name": "stderr"
        },
        {
          "output_type": "execute_result",
          "data": {
            "text/plain": [
              "GridSearchCV(cv=3,\n",
              "             estimator=MultiOutputClassifier(estimator=RandomForestClassifier()),\n",
              "             n_jobs=-1,\n",
              "             param_grid={'estimator__min_samples_leaf': [1, 4],\n",
              "                         'estimator__min_samples_split': [2, 4],\n",
              "                         'estimator__n_estimators': [100],\n",
              "                         'estimator__oob_score': [True, False]},\n",
              "             verbose=20)"
            ]
          },
          "metadata": {
            "tags": []
          },
          "execution_count": 84
        }
      ]
    },
    {
      "cell_type": "code",
      "metadata": {
        "colab": {
          "base_uri": "https://localhost:8080/"
        },
        "id": "sEMcYi99-oHM",
        "outputId": "f89bb853-47bc-45be-eca4-c409cf5ac49f"
      },
      "source": [
        "print('Best Parameters = {}'.format(gs.best_params_))\n",
        "\n",
        "tuned_model = gs.best_estimator_\n",
        "\n",
        "y_pred = tuned_model.predict(X_train)"
      ],
      "execution_count": 85,
      "outputs": [
        {
          "output_type": "stream",
          "text": [
            "Best Parameters = {'estimator__min_samples_leaf': 1, 'estimator__min_samples_split': 4, 'estimator__n_estimators': 100, 'estimator__oob_score': False}\n"
          ],
          "name": "stdout"
        }
      ]
    },
    {
      "cell_type": "code",
      "metadata": {
        "colab": {
          "base_uri": "https://localhost:8080/"
        },
        "id": "Xgzjymvb_8gw",
        "outputId": "77deb4ca-93c2-466f-884b-13126dc5be72"
      },
      "source": [
        "tuned_model"
      ],
      "execution_count": 86,
      "outputs": [
        {
          "output_type": "execute_result",
          "data": {
            "text/plain": [
              "MultiOutputClassifier(estimator=RandomForestClassifier(min_samples_split=4))"
            ]
          },
          "metadata": {
            "tags": []
          },
          "execution_count": 86
        }
      ]
    },
    {
      "cell_type": "code",
      "metadata": {
        "colab": {
          "base_uri": "https://localhost:8080/"
        },
        "id": "DN8oaVi1_QnW",
        "outputId": "7166835e-0693-41c5-cd80-cfafbf271716"
      },
      "source": [
        "#y_pred = modelo1.predict(X_train)\n",
        "accuracy = compute_accuracy(y_train, y_pred)\n",
        "accuracy"
      ],
      "execution_count": 87,
      "outputs": [
        {
          "output_type": "execute_result",
          "data": {
            "text/plain": [
              "{'predictionAccuracy': 89.96303242817146,\n",
              " 'predictionGnodeBAccuracy': 93.93704639973906,\n",
              " 'predictionTimeSlotAccuracy': 94.72804370871728}"
            ]
          },
          "metadata": {
            "tags": []
          },
          "execution_count": 87
        }
      ]
    },
    {
      "cell_type": "markdown",
      "metadata": {
        "id": "Uv6qAWTC8fPh"
      },
      "source": [
        "We did the testing and the  values were lowere\n",
        "\n",
        "\n",
        "> 'predictionAccuracy': 77.79892555640829\n",
        "\n",
        "> 'predictionGnodeBAccuracy': 86.63238679969302\n",
        "\n",
        "> 'predictionTimeSlotAccuracy': 87.64696853415195}\n"
      ]
    },
    {
      "cell_type": "markdown",
      "metadata": {
        "id": "0_JNVQP_wKUK"
      },
      "source": [
        "|||||||||||||||||||||||||||||||||||||||||||||||||||||||||||||||||||||||||||||||||||||||||||||||||||||||||||||||||||||||||||||||||||||||||||||||||||||||||||||||||||||||||||||||||||||||||||||||||||||||||||||||\n",
        "# Final Model\n",
        "|||||||||||||||||||||||||||||||||||||||||||||||||||||||||||||||||||||||||||||||||||||||||||||||||||||||||||||||||||||||||||||||||||||||||||||||||||||||||||||||||||||||||||||||||||||||||||||||||||||||||||||||"
      ]
    },
    {
      "cell_type": "markdown",
      "metadata": {
        "id": "pBd5K0JbwMt6"
      },
      "source": [
        "RandomForestClassifier(bootstrap=True, ccp_alpha=0.0, class_weight=None, criterion='gini', max_depth=None, max_features='auto', max_leaf_nodes=None, max_samples=None, min_impurity_decrease=0.0, min_impurity_split=None, min_samples_leaf=1, min_samples_split=2, min_weight_fraction_leaf=0.0, n_estimators=100, n_jobs=None, oob_score=True, random_state=42, verbose=0, warm_start=False)"
      ]
    },
    {
      "cell_type": "code",
      "metadata": {
        "id": "YLlOVeXUHeLs",
        "colab": {
          "base_uri": "https://localhost:8080/"
        },
        "outputId": "3c676ea2-a4da-44dd-d8ed-032949253c3b"
      },
      "source": [
        "from sklearn.ensemble import RandomForestClassifier\n",
        "\n",
        "model = RandomForestClassifier(n_estimators=100,\n",
        "                               min_samples_leaf=1,\n",
        "                               min_samples_split=2,\n",
        "                               max_depth=None,\n",
        "                               oob_score=True,\n",
        "                               random_state=42)\n",
        "model.fit(X_train, y_train)\n",
        "y_pred = model.predict(X_train)\n",
        "accuracy = compute_accuracy(y_train, y_pred)\n",
        "accuracy"
      ],
      "execution_count": 187,
      "outputs": [
        {
          "output_type": "execute_result",
          "data": {
            "text/plain": [
              "{'predictionAccuracy': 95.27032536899617,\n",
              " 'predictionGnodeBAccuracy': 97.07929000516458,\n",
              " 'predictionTimeSlotAccuracy': 97.32121014433662}"
            ]
          },
          "metadata": {
            "tags": []
          },
          "execution_count": 187
        }
      ]
    },
    {
      "cell_type": "code",
      "metadata": {
        "colab": {
          "base_uri": "https://localhost:8080/"
        },
        "id": "yQrSAIoh-HSv",
        "outputId": "1d910233-d304-40ff-f98b-c3e434032a0f"
      },
      "source": [
        "model.get_params() "
      ],
      "execution_count": 188,
      "outputs": [
        {
          "output_type": "execute_result",
          "data": {
            "text/plain": [
              "{'bootstrap': True,\n",
              " 'ccp_alpha': 0.0,\n",
              " 'class_weight': None,\n",
              " 'criterion': 'gini',\n",
              " 'max_depth': None,\n",
              " 'max_features': 'auto',\n",
              " 'max_leaf_nodes': None,\n",
              " 'max_samples': None,\n",
              " 'min_impurity_decrease': 0.0,\n",
              " 'min_impurity_split': None,\n",
              " 'min_samples_leaf': 1,\n",
              " 'min_samples_split': 2,\n",
              " 'min_weight_fraction_leaf': 0.0,\n",
              " 'n_estimators': 100,\n",
              " 'n_jobs': None,\n",
              " 'oob_score': True,\n",
              " 'random_state': 42,\n",
              " 'verbose': 0,\n",
              " 'warm_start': False}"
            ]
          },
          "metadata": {
            "tags": []
          },
          "execution_count": 188
        }
      ]
    },
    {
      "cell_type": "markdown",
      "metadata": {
        "id": "kWEzCebSAIzf"
      },
      "source": [
        "## Model evaluation"
      ]
    },
    {
      "cell_type": "code",
      "metadata": {
        "colab": {
          "base_uri": "https://localhost:8080/"
        },
        "id": "_4Wx09qIAIzf",
        "outputId": "c54b6544-9c98-4ff6-86ef-7b9f8fcc23e9"
      },
      "source": [
        "importance = model.feature_importances_\n",
        "for i, v in zip(X_train.columns, importance):\n",
        "    print(f'Feature: {i}, Score: {v}')"
      ],
      "execution_count": 189,
      "outputs": [
        {
          "output_type": "stream",
          "text": [
            "Feature: gnode_1, Score: 0.08581367631422777\n",
            "Feature: gnode_2, Score: 0.0838544774519844\n",
            "Feature: gnode_3, Score: 0.09354838357561007\n",
            "Feature: gnode_4, Score: 0.03989729819064774\n",
            "Feature: time_1, Score: 0.04387299580816485\n",
            "Feature: time_2, Score: 0.04072419405375839\n",
            "Feature: time_3, Score: 0.04121302006340997\n",
            "Feature: time_4, Score: 0.05587993020632839\n",
            "Feature: home_gnb, Score: 0.1094653492714118\n",
            "Feature: early_morn, Score: 0.12444211951423323\n",
            "Feature: morning, Score: 0.0\n",
            "Feature: noon, Score: 0.0\n",
            "Feature: evening, Score: 0.0\n",
            "Feature: night, Score: 0.1217119224704909\n",
            "Feature: neigh_1, Score: 0.0421285807573853\n",
            "Feature: neigh_2, Score: 0.03960772228606968\n",
            "Feature: neigh_3, Score: 0.037029179518392207\n",
            "Feature: neigh_4, Score: 0.04081115051788532\n"
          ],
          "name": "stdout"
        }
      ]
    },
    {
      "cell_type": "code",
      "metadata": {
        "colab": {
          "base_uri": "https://localhost:8080/",
          "height": 384
        },
        "id": "ijd_B8UiAIzf",
        "outputId": "6003b539-1c2a-4d42-8648-c29e3843ce58"
      },
      "source": [
        "pd.Series(index=X_train.columns, data=importance).plot.bar()"
      ],
      "execution_count": 190,
      "outputs": [
        {
          "output_type": "execute_result",
          "data": {
            "text/plain": [
              "<matplotlib.axes._subplots.AxesSubplot at 0x7f3d62196c50>"
            ]
          },
          "metadata": {
            "tags": []
          },
          "execution_count": 190
        },
        {
          "output_type": "display_data",
          "data": {
            "image/png": "[encoded data removed]",
            "text/plain": [
              "<Figure size 720x360 with 1 Axes>"
            ]
          },
          "metadata": {
            "tags": [],
            "needs_background": "light"
          }
        }
      ]
    },
    {
      "cell_type": "code",
      "metadata": {
        "id": "iKvgIF8gAIzg"
      },
      "source": [
        "y_pred = model.predict(X_train)"
      ],
      "execution_count": 191,
      "outputs": []
    },
    {
      "cell_type": "code",
      "metadata": {
        "colab": {
          "base_uri": "https://localhost:8080/"
        },
        "id": "bry6U8XCAIzh",
        "outputId": "30444f4c-11c1-4cb7-9e78-daf1dd5352d7"
      },
      "source": [
        "accuracy = compute_accuracy(y_train, y_pred)\n",
        "accuracy"
      ],
      "execution_count": 192,
      "outputs": [
        {
          "output_type": "execute_result",
          "data": {
            "text/plain": [
              "{'predictionAccuracy': 95.27032536899617,\n",
              " 'predictionGnodeBAccuracy': 97.07929000516458,\n",
              " 'predictionTimeSlotAccuracy': 97.32121014433662}"
            ]
          },
          "metadata": {
            "tags": []
          },
          "execution_count": 192
        }
      ]
    },
    {
      "cell_type": "code",
      "metadata": {
        "id": "XS-FwKbuzRri"
      },
      "source": [
        "# Training Probabilities"
      ],
      "execution_count": 193,
      "outputs": []
    },
    {
      "cell_type": "code",
      "metadata": {
        "id": "hKYT23kJAIzh"
      },
      "source": [
        "probs = model.predict_proba(X_train)"
      ],
      "execution_count": 194,
      "outputs": []
    },
    {
      "cell_type": "code",
      "metadata": {
        "id": "bqrOaPXcAIzi"
      },
      "source": [
        "gnb_preds = model.classes_[0][np.argsort(-probs[0])]\n",
        "ts_preds = model.classes_[1][np.argsort(-probs[1])]"
      ],
      "execution_count": 195,
      "outputs": []
    },
    {
      "cell_type": "code",
      "metadata": {
        "colab": {
          "base_uri": "https://localhost:8080/"
        },
        "id": "OUjoUSBtAIzi",
        "outputId": "0ca70fd6-cec2-437f-bf54-cd4f6243b00c"
      },
      "source": [
        "topk_accuracy(y_train.reset_index(), gnb_preds, ts_preds, k=1)\n",
        "topk_accuracy(y_train.reset_index(), gnb_preds, ts_preds, k=3)\n",
        "topk_accuracy(y_train.reset_index(), gnb_preds, ts_preds, k=5)"
      ],
      "execution_count": 196,
      "outputs": [
        {
          "output_type": "stream",
          "text": [
            "predictionAccuracy with first 1 results: 0.952689662670907\n",
            "predictionAccuracy with first 3 results: 0.9999728179618907\n",
            "predictionAccuracy with first 5 results: 1.0\n"
          ],
          "name": "stdout"
        },
        {
          "output_type": "execute_result",
          "data": {
            "text/plain": [
              "1.0"
            ]
          },
          "metadata": {
            "tags": []
          },
          "execution_count": 196
        }
      ]
    },
    {
      "cell_type": "markdown",
      "metadata": {
        "id": "ItyGbcA0AIzj"
      },
      "source": [
        "The following class implements the very same data processing procedure used above. It's been compacted for convenience"
      ]
    },
    {
      "cell_type": "code",
      "metadata": {
        "id": "9LUAKQT3AIzk"
      },
      "source": [
        "class PreprocessData:\n",
        "    def __init__(self, training_df,gnb_neigh):\n",
        "        self.training_df = training_df\n",
        "        self.gnb_neigh = gnb_neigh\n",
        "    \n",
        "    @staticmethod\n",
        "    def window_sequence(seq, window_size=5):\n",
        "        windows = []\n",
        "        seq_len = len(seq)\n",
        "        if seq_len < window_size:\n",
        "            print(seq)\n",
        "            padding_len = window_size - seq_len\n",
        "        for i in range(len(seq) - window_size + 1):\n",
        "            window = []\n",
        "            for j in range(i, i + window_size):\n",
        "                window.append(seq[j])\n",
        "            windows.append(window)\n",
        "        return windows\n",
        "\n",
        "    def compute_home_gnb(self, grouped_df):\n",
        "        ue_home_df = grouped_df.groupby(['imsi', 'currentEnb'])['stay_time'].sum().reset_index()\n",
        "        home_gnb = ue_home_df.loc[ue_home_df.groupby(['imsi'])['stay_time'].idxmax()][['imsi', 'currentEnb']]\n",
        "        home_gnb.columns = ['imsi', 'home_gnb']\n",
        "        return home_gnb\n",
        "\n",
        "    def compute_ue_context_df(self,grouped_df):\n",
        "        grouped_df['time_of_day'] = pd.cut(grouped_df['timeSlot'], \n",
        "                                           bins=5,\n",
        "                                           labels=['early_morn', 'morning', 'noon', 'evening', 'night'])\n",
        "        ue_df = grouped_df.groupby(['imsi', 'time_of_day'])['currentEnb'].count().reset_index()\n",
        "        ue_ctxt_df = pd.pivot_table(ue_df, index='imsi', columns='time_of_day', values='currentEnb', fill_value=0)\n",
        "        return ue_ctxt_df\n",
        "\n",
        "    def compute_transition_df(self, grouped_df):\n",
        "        seq_df = grouped_df.groupby(['imsi'])['currentEnb', 'timeSlot','transition_slot'].agg(\n",
        "            lambda x: list(x)).reset_index()\n",
        "        seq_df['enode_seq'] = seq_df['currentEnb'].apply(self.window_sequence).values\n",
        "        seq_df['time_seq'] = seq_df['timeSlot'].apply(self.window_sequence).values\n",
        "        seq_df['trans_seq'] = seq_df['transition_slot'].apply(self.window_sequence).values\n",
        "        enode_seq_list = [sequence for sequences in seq_df['enode_seq'] for sequence in sequences]\n",
        "        time_seq_list = [sequence for sequences in seq_df['time_seq'] for sequence in sequences]\n",
        "        trans_seq_list = [sequence for sequences in seq_df['trans_seq'] for sequence in sequences]\n",
        "        seq_df['seq_len'] = seq_df['enode_seq'].apply(lambda x: len(x))\n",
        "        imsi_list = list()\n",
        "        for a, b in zip(seq_df['imsi'], seq_df['seq_len']):\n",
        "            imsi_list.extend([a] * b)\n",
        "        enode_df = pd.DataFrame(enode_seq_list, columns=['enode_1', 'enode_2', 'enode_3', 'enode_4', 'target_gnb'])\n",
        "        #enode_df = pd.DataFrame(enode_seq_list, columns=['gnode_1', 'gnode_2', 'gnode_3', 'gnode_4', 'target_gnb'])\n",
        "        time_df = pd.DataFrame(time_seq_list, columns=['time_1', 'time_2', 'time_3', 'time_4', 'target_time'])\n",
        "        trans_df = pd.DataFrame(trans_seq_list, columns=['trans_1', 'trans_2', 'trans_3', 'trans_4', 'target_trans_slot'])\n",
        "        df = pd.concat([enode_df, time_df], axis=1)\n",
        "        #df = pd.concat([enode_df, time_df], axis=1)\n",
        "        df['target_trans_slot'] = trans_df['target_trans_slot']\n",
        "        df['imsi'] = imsi_list\n",
        "        return df\n",
        "\n",
        "    def preprocess_data(self):\n",
        "        grouped_df = self.training_df.set_index(['imsi', 'timestamp']).sort_index().reset_index()\n",
        "        grouped_df['next_timstamp'] = grouped_df.groupby(['imsi'])['timestamp'].shift(-1)\n",
        "        grouped_df['prev_timstamp'] = grouped_df.groupby(['imsi'])['timestamp'].shift(1)\n",
        "        grouped_df['stay_time'] = grouped_df['next_timstamp'] - grouped_df['timestamp']\n",
        "        grouped_df['transit_time'] = grouped_df['timestamp'] - grouped_df['prev_timstamp']\n",
        "        grouped_df['transition_slot'] = pd.cut(grouped_df['transit_time'], [0, 1, 5, 15, 30, 60, 3000],\n",
        "                                               labels=[1, 5, 15, 30, 60, 100])\n",
        "\n",
        "        home_gnb = self.compute_home_gnb(grouped_df)\n",
        "        ue_ctxt_df = self.compute_ue_context_df(grouped_df)\n",
        "\n",
        "        df = self.compute_transition_df(grouped_df)\n",
        "\n",
        "        df = df.merge(home_gnb, on='imsi').merge(ue_ctxt_df, on='imsi')\n",
        "        df = df.merge(self.gnb_neigh, left_on='enode_4', right_on='gnodeB', how='left')\n",
        "        del df['gnodeB']\n",
        "        df.dropna(inplace=True)\n",
        "        y_train = df[['target_gnb', 'target_trans_slot']]\n",
        "\n",
        "        to_drop_cols = ['target_gnb',\n",
        "                        'target_trans_slot',\n",
        "                        'target_time',\n",
        "                        'imsi'\n",
        "                       ]\n",
        "        print(df.shape)\n",
        "        df.drop(columns=to_drop_cols, inplace=True, axis=1)\n",
        "        \n",
        "        return df, y_train"
      ],
      "execution_count": 197,
      "outputs": []
    },
    {
      "cell_type": "code",
      "metadata": {
        "id": "jtaTWVEzAIzl"
      },
      "source": [
        "#X_test = X_test2"
      ],
      "execution_count": 198,
      "outputs": []
    },
    {
      "cell_type": "code",
      "metadata": {
        "colab": {
          "base_uri": "https://localhost:8080/"
        },
        "id": "NPf4Wg97AIzm",
        "outputId": "d3abf69a-5866-4f8b-c49c-0dca7d3f3722"
      },
      "source": [
        "day_2 = df.loc[(df['timestamp']>=1440) & (df['timestamp']<2880)]\n",
        "\n",
        "preprocess_df = PreprocessData(day_2,gnb_neigh)\n",
        "X_test, y_test = preprocess_df.preprocess_data()\n",
        "y_pred = model.predict(X_test)"
      ],
      "execution_count": 199,
      "outputs": [
        {
          "output_type": "stream",
          "text": [
            "(65150, 22)\n"
          ],
          "name": "stdout"
        }
      ]
    },
    {
      "cell_type": "code",
      "metadata": {
        "colab": {
          "base_uri": "https://localhost:8080/"
        },
        "id": "1ro_zT8rAIzm",
        "outputId": "d4b6828e-d5c4-4e5f-eb86-9f3da93a3ffc"
      },
      "source": [
        "X_test.shape"
      ],
      "execution_count": 182,
      "outputs": [
        {
          "output_type": "execute_result",
          "data": {
            "text/plain": [
              "(65150, 18)"
            ]
          },
          "metadata": {
            "tags": []
          },
          "execution_count": 182
        }
      ]
    },
    {
      "cell_type": "code",
      "metadata": {
        "colab": {
          "base_uri": "https://localhost:8080/"
        },
        "id": "-GFr1TH9AIzm",
        "outputId": "0379d869-b084-46bc-a5b5-3d47a771586c"
      },
      "source": [
        "y_test.shape"
      ],
      "execution_count": 183,
      "outputs": [
        {
          "output_type": "execute_result",
          "data": {
            "text/plain": [
              "(65150, 2)"
            ]
          },
          "metadata": {
            "tags": []
          },
          "execution_count": 183
        }
      ]
    },
    {
      "cell_type": "code",
      "metadata": {
        "id": "9lKbyWGSAIzn"
      },
      "source": [
        "probs = model.predict_proba(X_test)\n",
        "gnb_preds = model.classes_[0][np.argsort(-probs[0])]\n",
        "ts_preds = model.classes_[1][np.argsort(-probs[1])]"
      ],
      "execution_count": 200,
      "outputs": []
    },
    {
      "cell_type": "code",
      "metadata": {
        "id": "CGhfqZk4AIzn",
        "colab": {
          "base_uri": "https://localhost:8080/"
        },
        "outputId": "4fad0088-d619-4e14-d0a0-defccd7e6016"
      },
      "source": [
        "topk_accuracy(y_test.reset_index(), gnb_preds, ts_preds, k=1)\n",
        "topk_accuracy(y_test.reset_index(), gnb_preds, ts_preds, k=3)\n",
        "topk_accuracy(y_test.reset_index(), gnb_preds, ts_preds, k=5)"
      ],
      "execution_count": 201,
      "outputs": [
        {
          "output_type": "stream",
          "text": [
            "predictionAccuracy with first 1 results: 0.8241135840368381\n",
            "predictionAccuracy with first 3 results: 0.9961166538756715\n",
            "predictionAccuracy with first 5 results: 0.9987106676899463\n"
          ],
          "name": "stdout"
        },
        {
          "output_type": "execute_result",
          "data": {
            "text/plain": [
              "0.9987106676899463"
            ]
          },
          "metadata": {
            "tags": []
          },
          "execution_count": 201
        }
      ]
    },
    {
      "cell_type": "code",
      "metadata": {
        "colab": {
          "base_uri": "https://localhost:8080/"
        },
        "id": "dLtucqcoAIzn",
        "outputId": "6a16075d-a84d-44c9-971c-3b097bfc5967"
      },
      "source": [
        "accuracy = compute_accuracy(y_test, y_pred)\n",
        "accuracy"
      ],
      "execution_count": 202,
      "outputs": [
        {
          "output_type": "execute_result",
          "data": {
            "text/plain": [
              "{'predictionAccuracy': 82.40828856485034,\n",
              " 'predictionGnodeBAccuracy': 88.40828856485035,\n",
              " 'predictionTimeSlotAccuracy': 90.39293937068304}"
            ]
          },
          "metadata": {
            "tags": []
          },
          "execution_count": 202
        }
      ]
    },
    {
      "cell_type": "markdown",
      "metadata": {
        "id": "rUG4NBbZAIzn"
      },
      "source": [
        "## Model sharing\n",
        "### Pickle file"
      ]
    },
    {
      "cell_type": "code",
      "metadata": {
        "id": "NL683vPmAIzo",
        "colab": {
          "base_uri": "https://localhost:8080/"
        },
        "outputId": "e2f05155-a329-4dd1-acbc-10175f66632a"
      },
      "source": [
        "import joblib\n",
        "\n",
        "joblib.dump(model, 'mobility_model.pkl')"
      ],
      "execution_count": 142,
      "outputs": [
        {
          "output_type": "execute_result",
          "data": {
            "text/plain": [
              "['mobility_model.pkl']"
            ]
          },
          "metadata": {
            "tags": []
          },
          "execution_count": 142
        }
      ]
    },
    {
      "cell_type": "markdown",
      "metadata": {
        "id": "BX6GUK--AIzo"
      },
      "source": [
        "### ONNX\n",
        "\n",
        "Open Neural Network Exchange (ONNX) is an open standard format for AI models, born initially with focus on deep learning, but eventually extended to traditional ML. It defines an extensible computation graph model, as well as definitions of built-in operators and standard data types so that it is possible to represent any arbitrary model.\n",
        "\n",
        "It is possible for most of the popular ML frameworks to export trained models as ONNX models. For scikit-learn: [sklearn-onnx](http://onnx.ai/sklearn-onnx/). The converted ONNX model can be run by means of the [ONNX Runtime](https://www.onnxruntime.ai/) (thus enabling the creation of microservices)."
      ]
    },
    {
      "cell_type": "code",
      "metadata": {
        "id": "clxeyCN5AIzo"
      },
      "source": [
        "from skl2onnx import convert_sklearn\n",
        "from skl2onnx.common.data_types import Int64TensorType"
      ],
      "execution_count": null,
      "outputs": []
    },
    {
      "cell_type": "code",
      "metadata": {
        "id": "PIuR6D8AAIzo"
      },
      "source": [
        "X_train_onnx = X_train.to_numpy()\n",
        "X_test_onnx = X_test.to_numpy()\n",
        "y_train_onnx = y_train.to_numpy()\n",
        "y_test_onnx = y_test.to_numpy()"
      ],
      "execution_count": null,
      "outputs": []
    },
    {
      "cell_type": "code",
      "metadata": {
        "id": "1lGaoGE7AIzo"
      },
      "source": [
        "initial_type = [('input', Int64TensorType([None, 18]))]\n",
        "onx = convert_sklearn(model, initial_types=initial_type, options={type(model): {'zipmap': False}})"
      ],
      "execution_count": null,
      "outputs": []
    },
    {
      "cell_type": "code",
      "metadata": {
        "id": "oGsaTqpyAIzp"
      },
      "source": [
        "with open(\"mobility_model.onnx\", \"wb\") as f:\n",
        "    f.write(onx.SerializeToString())"
      ],
      "execution_count": null,
      "outputs": []
    },
    {
      "cell_type": "code",
      "metadata": {
        "id": "BMovmDWSAIzp"
      },
      "source": [
        "import onnxruntime as rt"
      ],
      "execution_count": null,
      "outputs": []
    },
    {
      "cell_type": "code",
      "metadata": {
        "id": "qKsLfbJaAIzp"
      },
      "source": [
        "sess = rt.InferenceSession(\"mobility_model.onnx\")\n",
        "input_name = sess.get_inputs()[0].name\n",
        "label_name = sess.get_outputs()[0].name"
      ],
      "execution_count": null,
      "outputs": []
    },
    {
      "cell_type": "code",
      "metadata": {
        "id": "ujNV0v4uAIzp",
        "outputId": "b9b075ff-1198-4843-8eac-06fe4fb11c00"
      },
      "source": [
        "sess.run([label_name], {input_name: X_test_onnx[:1]})"
      ],
      "execution_count": null,
      "outputs": [
        {
          "output_type": "execute_result",
          "data": {
            "text/plain": [
              "[array([[13, 15]], dtype=int64)]"
            ]
          },
          "metadata": {
            "tags": []
          },
          "execution_count": 68
        }
      ]
    },
    {
      "cell_type": "code",
      "metadata": {
        "id": "_MGbMBJLAIzp",
        "outputId": "b2c3473a-ac5b-466b-ca3e-a4f75a78ef89"
      },
      "source": [
        "model.predict(X_test_onnx[:1])"
      ],
      "execution_count": null,
      "outputs": [
        {
          "output_type": "execute_result",
          "data": {
            "text/plain": [
              "array([[13, 15]])"
            ]
          },
          "metadata": {
            "tags": []
          },
          "execution_count": 69
        }
      ]
    },
    {
      "cell_type": "markdown",
      "metadata": {
        "id": "h28tdfIeAIzm"
      },
      "source": [
        "# Change Column Name - For Drifting purposes the column names of both sets should be called the same\n",
        "||||||||||||||||||||||||||||||||||||||||||||||||||||||||||||||||||||||||||||||||||||||||||||||||||||||||||||||||"
      ]
    },
    {
      "cell_type": "code",
      "metadata": {
        "id": "3GrbT1O0AIzm"
      },
      "source": [
        "\n",
        "X_test.rename(columns={'enode_1':'gnode_1', 'enode_2':'gnode_2', 'enode_3':'gnode_3', \n",
        "                       'enode_4':'gnode_4'}, inplace = True)\n",
        "\n"
      ],
      "execution_count": 160,
      "outputs": []
    },
    {
      "cell_type": "markdown",
      "metadata": {
        "id": "Cv56-nYJAIzq"
      },
      "source": [
        "|||||||||||||||||||||||||||||||||||||||||||||||||||||||||||||||||||||||||||||||||||||||||||||||||||||||||||||||||||||||||||||||||||||||||||||||||||||||||||||||||||||||||||||||||||||||||||||||||||||||||||||||\n",
        "# Let's check if there is datadrift\n",
        "|||||||||||||||||||||||||||||||||||||||||||||||||||||||||||||||||||||||||||||||||||||||||||||||||||||||||||||||||||||||||||||||||||||||||||||||||||||||||||||||||||||||||||||||||||||||||||||||||||||||||||||||"
      ]
    },
    {
      "cell_type": "code",
      "metadata": {
        "colab": {
          "base_uri": "https://localhost:8080/",
          "height": 143
        },
        "id": "FvNDrnJQAIzq",
        "outputId": "e66b77a8-54e8-4d76-abfa-eface3479d91"
      },
      "source": [
        "X_train.head(3)"
      ],
      "execution_count": 143,
      "outputs": [
        {
          "output_type": "execute_result",
          "data": {
            "text/html": [
              "<div>\n",
              "<style scoped>\n",
              "    .dataframe tbody tr th:only-of-type {\n",
              "        vertical-align: middle;\n",
              "    }\n",
              "\n",
              "    .dataframe tbody tr th {\n",
              "        vertical-align: top;\n",
              "    }\n",
              "\n",
              "    .dataframe thead th {\n",
              "        text-align: right;\n",
              "    }\n",
              "</style>\n",
              "<table border=\"1\" class=\"dataframe\">\n",
              "  <thead>\n",
              "    <tr style=\"text-align: right;\">\n",
              "      <th></th>\n",
              "      <th>gnode_1</th>\n",
              "      <th>gnode_2</th>\n",
              "      <th>gnode_3</th>\n",
              "      <th>gnode_4</th>\n",
              "      <th>time_1</th>\n",
              "      <th>time_2</th>\n",
              "      <th>time_3</th>\n",
              "      <th>time_4</th>\n",
              "      <th>home_gnb</th>\n",
              "      <th>early_morn</th>\n",
              "      <th>morning</th>\n",
              "      <th>noon</th>\n",
              "      <th>evening</th>\n",
              "      <th>night</th>\n",
              "      <th>neigh_1</th>\n",
              "      <th>neigh_2</th>\n",
              "      <th>neigh_3</th>\n",
              "      <th>neigh_4</th>\n",
              "    </tr>\n",
              "  </thead>\n",
              "  <tbody>\n",
              "    <tr>\n",
              "      <th>0</th>\n",
              "      <td>22</td>\n",
              "      <td>18</td>\n",
              "      <td>9</td>\n",
              "      <td>23</td>\n",
              "      <td>0</td>\n",
              "      <td>0</td>\n",
              "      <td>1</td>\n",
              "      <td>1</td>\n",
              "      <td>40</td>\n",
              "      <td>8</td>\n",
              "      <td>0</td>\n",
              "      <td>0</td>\n",
              "      <td>0</td>\n",
              "      <td>4</td>\n",
              "      <td>21</td>\n",
              "      <td>6</td>\n",
              "      <td>13</td>\n",
              "      <td>9</td>\n",
              "    </tr>\n",
              "    <tr>\n",
              "      <th>1</th>\n",
              "      <td>18</td>\n",
              "      <td>9</td>\n",
              "      <td>23</td>\n",
              "      <td>13</td>\n",
              "      <td>0</td>\n",
              "      <td>1</td>\n",
              "      <td>1</td>\n",
              "      <td>2</td>\n",
              "      <td>40</td>\n",
              "      <td>8</td>\n",
              "      <td>0</td>\n",
              "      <td>0</td>\n",
              "      <td>0</td>\n",
              "      <td>4</td>\n",
              "      <td>11</td>\n",
              "      <td>23</td>\n",
              "      <td>24</td>\n",
              "      <td>40</td>\n",
              "    </tr>\n",
              "    <tr>\n",
              "      <th>2</th>\n",
              "      <td>9</td>\n",
              "      <td>23</td>\n",
              "      <td>13</td>\n",
              "      <td>23</td>\n",
              "      <td>1</td>\n",
              "      <td>1</td>\n",
              "      <td>2</td>\n",
              "      <td>2</td>\n",
              "      <td>40</td>\n",
              "      <td>8</td>\n",
              "      <td>0</td>\n",
              "      <td>0</td>\n",
              "      <td>0</td>\n",
              "      <td>4</td>\n",
              "      <td>21</td>\n",
              "      <td>6</td>\n",
              "      <td>13</td>\n",
              "      <td>9</td>\n",
              "    </tr>\n",
              "  </tbody>\n",
              "</table>\n",
              "</div>"
            ],
            "text/plain": [
              "   gnode_1  gnode_2  gnode_3  gnode_4  ...  neigh_1  neigh_2  neigh_3  neigh_4\n",
              "0       22       18        9       23  ...       21        6       13        9\n",
              "1       18        9       23       13  ...       11       23       24       40\n",
              "2        9       23       13       23  ...       21        6       13        9\n",
              "\n",
              "[3 rows x 18 columns]"
            ]
          },
          "metadata": {
            "tags": []
          },
          "execution_count": 143
        }
      ]
    },
    {
      "cell_type": "code",
      "metadata": {
        "colab": {
          "base_uri": "https://localhost:8080/",
          "height": 112
        },
        "id": "2R49Jp1zAIzq",
        "outputId": "08f3e2c7-ffd5-47ab-e5a6-b847a8f13a9e"
      },
      "source": [
        "X_test.head(2)"
      ],
      "execution_count": 144,
      "outputs": [
        {
          "output_type": "execute_result",
          "data": {
            "text/html": [
              "<div>\n",
              "<style scoped>\n",
              "    .dataframe tbody tr th:only-of-type {\n",
              "        vertical-align: middle;\n",
              "    }\n",
              "\n",
              "    .dataframe tbody tr th {\n",
              "        vertical-align: top;\n",
              "    }\n",
              "\n",
              "    .dataframe thead th {\n",
              "        text-align: right;\n",
              "    }\n",
              "</style>\n",
              "<table border=\"1\" class=\"dataframe\">\n",
              "  <thead>\n",
              "    <tr style=\"text-align: right;\">\n",
              "      <th></th>\n",
              "      <th>gnode_1</th>\n",
              "      <th>gnode_2</th>\n",
              "      <th>gnode_3</th>\n",
              "      <th>gnode_4</th>\n",
              "      <th>time_1</th>\n",
              "      <th>time_2</th>\n",
              "      <th>time_3</th>\n",
              "      <th>time_4</th>\n",
              "      <th>home_gnb</th>\n",
              "      <th>early_morn</th>\n",
              "      <th>morning</th>\n",
              "      <th>noon</th>\n",
              "      <th>evening</th>\n",
              "      <th>night</th>\n",
              "      <th>neigh_1</th>\n",
              "      <th>neigh_2</th>\n",
              "      <th>neigh_3</th>\n",
              "      <th>neigh_4</th>\n",
              "    </tr>\n",
              "  </thead>\n",
              "  <tbody>\n",
              "    <tr>\n",
              "      <th>0</th>\n",
              "      <td>22</td>\n",
              "      <td>18</td>\n",
              "      <td>9</td>\n",
              "      <td>23</td>\n",
              "      <td>0</td>\n",
              "      <td>0</td>\n",
              "      <td>1</td>\n",
              "      <td>1</td>\n",
              "      <td>40</td>\n",
              "      <td>8</td>\n",
              "      <td>0</td>\n",
              "      <td>0</td>\n",
              "      <td>0</td>\n",
              "      <td>4</td>\n",
              "      <td>21</td>\n",
              "      <td>6</td>\n",
              "      <td>13</td>\n",
              "      <td>9</td>\n",
              "    </tr>\n",
              "    <tr>\n",
              "      <th>1</th>\n",
              "      <td>18</td>\n",
              "      <td>9</td>\n",
              "      <td>23</td>\n",
              "      <td>13</td>\n",
              "      <td>0</td>\n",
              "      <td>1</td>\n",
              "      <td>1</td>\n",
              "      <td>2</td>\n",
              "      <td>40</td>\n",
              "      <td>8</td>\n",
              "      <td>0</td>\n",
              "      <td>0</td>\n",
              "      <td>0</td>\n",
              "      <td>4</td>\n",
              "      <td>11</td>\n",
              "      <td>23</td>\n",
              "      <td>24</td>\n",
              "      <td>40</td>\n",
              "    </tr>\n",
              "  </tbody>\n",
              "</table>\n",
              "</div>"
            ],
            "text/plain": [
              "   gnode_1  gnode_2  gnode_3  gnode_4  ...  neigh_1  neigh_2  neigh_3  neigh_4\n",
              "0       22       18        9       23  ...       21        6       13        9\n",
              "1       18        9       23       13  ...       11       23       24       40\n",
              "\n",
              "[2 rows x 18 columns]"
            ]
          },
          "metadata": {
            "tags": []
          },
          "execution_count": 144
        }
      ]
    },
    {
      "cell_type": "code",
      "metadata": {
        "id": "lUSTaX0SAIzq"
      },
      "source": [
        "#!python --version"
      ],
      "execution_count": 145,
      "outputs": []
    },
    {
      "cell_type": "code",
      "metadata": {
        "colab": {
          "base_uri": "https://localhost:8080/",
          "height": 416
        },
        "id": "rMD8jC5A1CTl",
        "outputId": "c0fafae7-61c3-4ab4-ac6f-4661cf3c5093"
      },
      "source": [
        "!pip uninstall scikit-learn\n",
        "!pip install scikit-learn==0.23.1"
      ],
      "execution_count": 81,
      "outputs": [
        {
          "output_type": "stream",
          "text": [
            "Uninstalling scikit-learn-0.24.0:\n",
            "  Would remove:\n",
            "    /usr/local/lib/python3.7/dist-packages/scikit_learn-0.24.0.dist-info/*\n",
            "    /usr/local/lib/python3.7/dist-packages/scikit_learn.libs/libgomp-f7e03b3e.so.1.0.0\n",
            "    /usr/local/lib/python3.7/dist-packages/sklearn/*\n",
            "Proceed (y/n)? y\n",
            "  Successfully uninstalled scikit-learn-0.24.0\n",
            "Collecting scikit-learn==0.23.1\n",
            "\u001b[?25l  Downloading https://files.pythonhosted.org/packages/b8/7e/74e707b66490d4eb05f702966ad0990881127acecf9d5cdcef3c95ec6c16/scikit_learn-0.23.1-cp37-cp37m-manylinux1_x86_64.whl (6.8MB)\n",
            "\u001b[K     |████████████████████████████████| 6.8MB 10.2MB/s \n",
            "\u001b[?25hRequirement already satisfied: threadpoolctl>=2.0.0 in /usr/local/lib/python3.7/dist-packages (from scikit-learn==0.23.1) (2.1.0)\n",
            "Requirement already satisfied: scipy>=0.19.1 in /usr/local/lib/python3.7/dist-packages (from scikit-learn==0.23.1) (1.4.1)\n",
            "Requirement already satisfied: joblib>=0.11 in /usr/local/lib/python3.7/dist-packages (from scikit-learn==0.23.1) (1.0.1)\n",
            "Requirement already satisfied: numpy>=1.13.3 in /usr/local/lib/python3.7/dist-packages (from scikit-learn==0.23.1) (1.19.5)\n",
            "Installing collected packages: scikit-learn\n",
            "Successfully installed scikit-learn-0.23.1\n"
          ],
          "name": "stdout"
        },
        {
          "output_type": "display_data",
          "data": {
            "application/vnd.colab-display-data+json": {
              "pip_warning": {
                "packages": [
                  "sklearn"
                ]
              }
            }
          },
          "metadata": {
            "tags": []
          }
        }
      ]
    },
    {
      "cell_type": "code",
      "metadata": {
        "id": "XnWXurRNAIzr",
        "colab": {
          "base_uri": "https://localhost:8080/"
        },
        "outputId": "11143496-19ce-4ad9-f9e9-dec0164d8813"
      },
      "source": [
        "!pip install pydrift"
      ],
      "execution_count": 73,
      "outputs": [
        {
          "output_type": "stream",
          "text": [
            "Requirement already satisfied: pydrift in /usr/local/lib/python3.7/dist-packages (0.2.10)\n",
            "Requirement already satisfied: catboost<0.24,>=0.23 in /usr/local/lib/python3.7/dist-packages (from pydrift) (0.23.2)\n",
            "Requirement already satisfied: scikit-learn<0.24.0,>=0.23.1 in /usr/local/lib/python3.7/dist-packages (from pydrift) (0.23.2)\n",
            "Requirement already satisfied: pandas<2.0.0,>=1.0.3 in /usr/local/lib/python3.7/dist-packages (from pydrift) (1.1.5)\n",
            "Requirement already satisfied: shap<0.36.0,>=0.35.0 in /usr/local/lib/python3.7/dist-packages (from pydrift) (0.35.0)\n",
            "Requirement already satisfied: statsmodels<0.12.0,>=0.11.1 in /usr/local/lib/python3.7/dist-packages (from pydrift) (0.11.1)\n",
            "Requirement already satisfied: typing-extensions<4.0.0,>=3.7.4; python_version < \"3.8\" in /usr/local/lib/python3.7/dist-packages (from pydrift) (3.7.4.3)\n",
            "Requirement already satisfied: graphviz in /usr/local/lib/python3.7/dist-packages (from catboost<0.24,>=0.23->pydrift) (0.10.1)\n",
            "Requirement already satisfied: numpy>=1.16.0 in /usr/local/lib/python3.7/dist-packages (from catboost<0.24,>=0.23->pydrift) (1.19.5)\n",
            "Requirement already satisfied: six in /usr/local/lib/python3.7/dist-packages (from catboost<0.24,>=0.23->pydrift) (1.15.0)\n",
            "Requirement already satisfied: scipy in /usr/local/lib/python3.7/dist-packages (from catboost<0.24,>=0.23->pydrift) (1.4.1)\n",
            "Requirement already satisfied: matplotlib in /usr/local/lib/python3.7/dist-packages (from catboost<0.24,>=0.23->pydrift) (3.2.2)\n",
            "Requirement already satisfied: plotly in /usr/local/lib/python3.7/dist-packages (from catboost<0.24,>=0.23->pydrift) (4.4.1)\n",
            "Requirement already satisfied: threadpoolctl>=2.0.0 in /usr/local/lib/python3.7/dist-packages (from scikit-learn<0.24.0,>=0.23.1->pydrift) (2.1.0)\n",
            "Requirement already satisfied: joblib>=0.11 in /usr/local/lib/python3.7/dist-packages (from scikit-learn<0.24.0,>=0.23.1->pydrift) (1.0.1)\n",
            "Requirement already satisfied: python-dateutil>=2.7.3 in /usr/local/lib/python3.7/dist-packages (from pandas<2.0.0,>=1.0.3->pydrift) (2.8.1)\n",
            "Requirement already satisfied: pytz>=2017.2 in /usr/local/lib/python3.7/dist-packages (from pandas<2.0.0,>=1.0.3->pydrift) (2018.9)\n",
            "Requirement already satisfied: tqdm>4.25.0 in /usr/local/lib/python3.7/dist-packages (from shap<0.36.0,>=0.35.0->pydrift) (4.41.1)\n",
            "Requirement already satisfied: patsy>=0.5 in /usr/local/lib/python3.7/dist-packages (from statsmodels<0.12.0,>=0.11.1->pydrift) (0.5.1)\n",
            "Requirement already satisfied: pyparsing!=2.0.4,!=2.1.2,!=2.1.6,>=2.0.1 in /usr/local/lib/python3.7/dist-packages (from matplotlib->catboost<0.24,>=0.23->pydrift) (2.4.7)\n",
            "Requirement already satisfied: kiwisolver>=1.0.1 in /usr/local/lib/python3.7/dist-packages (from matplotlib->catboost<0.24,>=0.23->pydrift) (1.3.1)\n",
            "Requirement already satisfied: cycler>=0.10 in /usr/local/lib/python3.7/dist-packages (from matplotlib->catboost<0.24,>=0.23->pydrift) (0.10.0)\n",
            "Requirement already satisfied: retrying>=1.3.3 in /usr/local/lib/python3.7/dist-packages (from plotly->catboost<0.24,>=0.23->pydrift) (1.3.3)\n"
          ],
          "name": "stdout"
        }
      ]
    },
    {
      "cell_type": "code",
      "metadata": {
        "id": "I927vdIaAIzs"
      },
      "source": [
        "from pydrift import DataDriftChecker\n",
        "from pydrift.constants import PATH_DATA, RANDOM_STATE"
      ],
      "execution_count": 146,
      "outputs": []
    },
    {
      "cell_type": "code",
      "metadata": {
        "id": "fzKIUfbBAIzs"
      },
      "source": [
        "data_drift_checker_ok = DataDriftChecker(X_train, X_test)"
      ],
      "execution_count": 147,
      "outputs": []
    },
    {
      "cell_type": "code",
      "metadata": {
        "colab": {
          "base_uri": "https://localhost:8080/",
          "height": 611
        },
        "id": "PJgUCw3AAIzs",
        "outputId": "26276fce-1734-43c4-a175-d4e396b1875e"
      },
      "source": [
        "data_drift_checker_ok.ml_model_can_discriminate();"
      ],
      "execution_count": 148,
      "outputs": [
        {
          "output_type": "display_data",
          "data": {
            "image/png": "[encoded data removed]",
            "text/plain": [
              "<Figure size 576x626.4 with 1 Axes>"
            ]
          },
          "metadata": {
            "tags": [],
            "needs_background": "light"
          }
        },
        {
          "output_type": "stream",
          "text": [
            "Drift found in discriminative model step, take a look on the most discriminative features (plots when minimal is set to False)\n",
            "\n",
            "AUC drift check model: 0.61\n",
            "AUC threshold: .5 ± 0.10\n"
          ],
          "name": "stdout"
        }
      ]
    },
    {
      "cell_type": "code",
      "metadata": {
        "colab": {
          "base_uri": "https://localhost:8080/"
        },
        "id": "k3QquDEXAIzs",
        "outputId": "290bbcc9-e023-4ac7-8fec-8bfb248a7669"
      },
      "source": [
        "data_drift_checker_ok.check_numerical_columns();"
      ],
      "execution_count": 149,
      "outputs": [
        {
          "output_type": "stream",
          "text": [
            "Drift found in numerical columns check step, take a look on the variables that are drifted, if one is not important you could simply delete it, otherwise check the data source\n",
            "\n"
          ],
          "name": "stdout"
        },
        {
          "output_type": "stream",
          "text": [
            "/usr/local/lib/python3.7/dist-packages/pydrift/core/drift_checker.py:387: UserWarning:\n",
            "\n",
            "Features drifted (numerical): gnode_1, gnode_2, time_1, time_2, time_3, time_4, early_morn, night, neigh_1, neigh_4\n",
            "\n"
          ],
          "name": "stderr"
        }
      ]
    },
    {
      "cell_type": "code",
      "metadata": {
        "colab": {
          "base_uri": "https://localhost:8080/"
        },
        "id": "JpOmzUAUAIzt",
        "outputId": "80557e4b-c659-49b0-a6ab-6973eb2308ff"
      },
      "source": [
        "data_drift_checker_ok.check_categorical_columns();\n"
      ],
      "execution_count": 150,
      "outputs": [
        {
          "output_type": "stream",
          "text": [
            "No drift found in categorical columns check step\n",
            "\n"
          ],
          "name": "stdout"
        }
      ]
    },
    {
      "cell_type": "code",
      "metadata": {
        "colab": {
          "base_uri": "https://localhost:8080/"
        },
        "id": "UkWMvgONAIzt",
        "outputId": "e1dd3863-c713-4290-c93d-3efc5f64ea71"
      },
      "source": [
        "data_drift_checker_ok.drifted_features"
      ],
      "execution_count": 151,
      "outputs": [
        {
          "output_type": "execute_result",
          "data": {
            "text/plain": [
              "{'early_morn',\n",
              " 'gnode_1',\n",
              " 'gnode_2',\n",
              " 'neigh_1',\n",
              " 'neigh_4',\n",
              " 'night',\n",
              " 'time_1',\n",
              " 'time_2',\n",
              " 'time_3',\n",
              " 'time_4'}"
            ]
          },
          "metadata": {
            "tags": []
          },
          "execution_count": 151
        }
      ]
    },
    {
      "cell_type": "code",
      "metadata": {
        "id": "CyL7yE68AIzt"
      },
      "source": [
        "X_train2 = X_train\n",
        "X_test2 = X_test"
      ],
      "execution_count": 152,
      "outputs": []
    },
    {
      "cell_type": "markdown",
      "metadata": {
        "id": "DVLa8cuz2jTL"
      },
      "source": [
        "# Dropping the drift columns (the important ones)"
      ]
    },
    {
      "cell_type": "code",
      "metadata": {
        "id": "ji0RXqEvAIzu"
      },
      "source": [
        "X_train2 = X_train2.drop(columns=['early_morn', 'time_2'])\n",
        "X_test2 = X_test2.drop(columns=['early_morn', 'time_2'])"
      ],
      "execution_count": 153,
      "outputs": []
    },
    {
      "cell_type": "code",
      "metadata": {
        "colab": {
          "base_uri": "https://localhost:8080/"
        },
        "id": "G1cBsLdlAIzu",
        "outputId": "b3ee0814-8a5b-4b4a-f7d1-ad0ae626229a"
      },
      "source": [
        "X_train2.shape"
      ],
      "execution_count": 154,
      "outputs": [
        {
          "output_type": "execute_result",
          "data": {
            "text/plain": [
              "(73578, 16)"
            ]
          },
          "metadata": {
            "tags": []
          },
          "execution_count": 154
        }
      ]
    },
    {
      "cell_type": "markdown",
      "metadata": {
        "id": "HQUjHK222xxu"
      },
      "source": [
        "# Check we don't have drift\n",
        "\n",
        "\n",
        "> No drift found in discriminative model step\n",
        "\n"
      ]
    },
    {
      "cell_type": "code",
      "metadata": {
        "colab": {
          "base_uri": "https://localhost:8080/",
          "height": 585
        },
        "id": "A6nqGa1ZAIzu",
        "outputId": "1f66837d-b16c-40ba-9249-ec283536fc3e"
      },
      "source": [
        "data_drift_checker_ok = DataDriftChecker(X_train2, X_test2)\n",
        "data_drift_checker_ok.ml_model_can_discriminate()"
      ],
      "execution_count": 155,
      "outputs": [
        {
          "output_type": "display_data",
          "data": {
            "image/png": "[encoded data removed]",
            "text/plain": [
              "<Figure size 576x568.8 with 1 Axes>"
            ]
          },
          "metadata": {
            "tags": [],
            "needs_background": "light"
          }
        },
        {
          "output_type": "stream",
          "text": [
            "No drift found in discriminative model step\n",
            "\n",
            "AUC drift check model: 0.54\n",
            "AUC threshold: .5 ± 0.10\n"
          ],
          "name": "stdout"
        },
        {
          "output_type": "execute_result",
          "data": {
            "text/plain": [
              "False"
            ]
          },
          "metadata": {
            "tags": []
          },
          "execution_count": 155
        }
      ]
    },
    {
      "cell_type": "markdown",
      "metadata": {
        "id": "6sDre1HR26UH"
      },
      "source": [
        "# We run the model again"
      ]
    },
    {
      "cell_type": "code",
      "metadata": {
        "id": "kmyPJzFTAIzu"
      },
      "source": [
        "model = model.fit(X_train2, y_train)\n",
        "\n",
        "y_pred = model.predict(X_test2)"
      ],
      "execution_count": 156,
      "outputs": []
    },
    {
      "cell_type": "code",
      "metadata": {
        "colab": {
          "base_uri": "https://localhost:8080/"
        },
        "id": "A3VpXB53HCph",
        "outputId": "baac2c79-8ca4-4782-f0a3-c55c20fad7ba"
      },
      "source": [
        "accuracy = compute_accuracy(y_test, y_pred)\n",
        "accuracy"
      ],
      "execution_count": 157,
      "outputs": [
        {
          "output_type": "execute_result",
          "data": {
            "text/plain": [
              "{'predictionAccuracy': 85.02839600920952,\n",
              " 'predictionGnodeBAccuracy': 90.18726016884114,\n",
              " 'predictionTimeSlotAccuracy': 91.49654643131235}"
            ]
          },
          "metadata": {
            "tags": []
          },
          "execution_count": 157
        }
      ]
    },
    {
      "cell_type": "code",
      "metadata": {
        "id": "U-y4k2pIEwXr"
      },
      "source": [
        ""
      ],
      "execution_count": null,
      "outputs": []
    }
  ]
}